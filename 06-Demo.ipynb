{
 "cells": [
  {
   "cell_type": "markdown",
   "metadata": {},
   "source": [
    "# Khám phá dữ liệu, tiền xử lý, và phân tích đơn giản\n",
    "\n",
    "(Tiếp tục phần demo của buổi trước, dữ liệu là dữ liệu về kết quả làm bài quiz đầu tiên của lớp)\n",
    "\n",
    "Cập nhật 08/11/2020"
   ]
  },
  {
   "cell_type": "markdown",
   "metadata": {},
   "source": [
    "## Khám phá dữ liệu"
   ]
  },
  {
   "cell_type": "code",
   "execution_count": 1,
   "metadata": {},
   "outputs": [],
   "source": [
    "import pandas as pd"
   ]
  },
  {
   "cell_type": "code",
   "execution_count": 2,
   "metadata": {},
   "outputs": [
    {
     "data": {
      "text/html": [
       "<div>\n",
       "<style scoped>\n",
       "    .dataframe tbody tr th:only-of-type {\n",
       "        vertical-align: middle;\n",
       "    }\n",
       "\n",
       "    .dataframe tbody tr th {\n",
       "        vertical-align: top;\n",
       "    }\n",
       "\n",
       "    .dataframe thead th {\n",
       "        text-align: right;\n",
       "    }\n",
       "</style>\n",
       "<table border=\"1\" class=\"dataframe\">\n",
       "  <thead>\n",
       "    <tr style=\"text-align: right;\">\n",
       "      <th></th>\n",
       "      <th>State</th>\n",
       "      <th>Started on</th>\n",
       "      <th>Completed</th>\n",
       "      <th>Time taken</th>\n",
       "      <th>Grade/15.00</th>\n",
       "      <th>Q. 1 /1.00</th>\n",
       "      <th>Q. 2 /1.00</th>\n",
       "      <th>Q. 3 /1.00</th>\n",
       "      <th>Q. 4 /1.00</th>\n",
       "      <th>Q. 5 /1.00</th>\n",
       "      <th>Q. 6 /1.00</th>\n",
       "      <th>Q. 7 /1.00</th>\n",
       "      <th>Q. 8 /1.00</th>\n",
       "      <th>Q. 9 /1.00</th>\n",
       "      <th>Q. 10 /1.00</th>\n",
       "      <th>Q. 11 /1.00</th>\n",
       "      <th>Q. 12 /1.00</th>\n",
       "      <th>Q. 13 /1.00</th>\n",
       "      <th>Q. 14 /1.00</th>\n",
       "      <th>Q. 15 /1.00</th>\n",
       "    </tr>\n",
       "  </thead>\n",
       "  <tbody>\n",
       "    <tr>\n",
       "      <th>0</th>\n",
       "      <td>Finished</td>\n",
       "      <td>10/2/2020 19:00</td>\n",
       "      <td>10/2/2020 19:49</td>\n",
       "      <td>49 mins 6 secs</td>\n",
       "      <td>12.75</td>\n",
       "      <td>1</td>\n",
       "      <td>1</td>\n",
       "      <td>1</td>\n",
       "      <td>1</td>\n",
       "      <td>1</td>\n",
       "      <td>1</td>\n",
       "      <td>0.75</td>\n",
       "      <td>0</td>\n",
       "      <td>1</td>\n",
       "      <td>1</td>\n",
       "      <td>1</td>\n",
       "      <td>1</td>\n",
       "      <td>0</td>\n",
       "      <td>1</td>\n",
       "      <td>1</td>\n",
       "    </tr>\n",
       "    <tr>\n",
       "      <th>1</th>\n",
       "      <td>Finished</td>\n",
       "      <td>10/2/2020 19:00</td>\n",
       "      <td>10/2/2020 19:40</td>\n",
       "      <td>40 mins 49 secs</td>\n",
       "      <td>13</td>\n",
       "      <td>1</td>\n",
       "      <td>1</td>\n",
       "      <td>0</td>\n",
       "      <td>1</td>\n",
       "      <td>1</td>\n",
       "      <td>1</td>\n",
       "      <td>1</td>\n",
       "      <td>1</td>\n",
       "      <td>1</td>\n",
       "      <td>1</td>\n",
       "      <td>1</td>\n",
       "      <td>1</td>\n",
       "      <td>1</td>\n",
       "      <td>0</td>\n",
       "      <td>1</td>\n",
       "    </tr>\n",
       "    <tr>\n",
       "      <th>2</th>\n",
       "      <td>Finished</td>\n",
       "      <td>10/2/2020 19:00</td>\n",
       "      <td>10/2/2020 19:19</td>\n",
       "      <td>19 mins 45 secs</td>\n",
       "      <td>11.5</td>\n",
       "      <td>1</td>\n",
       "      <td>1</td>\n",
       "      <td>0</td>\n",
       "      <td>0</td>\n",
       "      <td>1</td>\n",
       "      <td>1</td>\n",
       "      <td>0.5</td>\n",
       "      <td>0</td>\n",
       "      <td>1</td>\n",
       "      <td>1</td>\n",
       "      <td>1</td>\n",
       "      <td>1</td>\n",
       "      <td>1</td>\n",
       "      <td>1</td>\n",
       "      <td>1</td>\n",
       "    </tr>\n",
       "    <tr>\n",
       "      <th>3</th>\n",
       "      <td>Finished</td>\n",
       "      <td>10/2/2020 19:01</td>\n",
       "      <td>10/2/2020 19:41</td>\n",
       "      <td>40 mins 13 secs</td>\n",
       "      <td>9.85</td>\n",
       "      <td>1</td>\n",
       "      <td>0</td>\n",
       "      <td>0</td>\n",
       "      <td>0.6</td>\n",
       "      <td>1</td>\n",
       "      <td>0</td>\n",
       "      <td>0.25</td>\n",
       "      <td>0</td>\n",
       "      <td>1</td>\n",
       "      <td>1</td>\n",
       "      <td>1</td>\n",
       "      <td>1</td>\n",
       "      <td>1</td>\n",
       "      <td>1</td>\n",
       "      <td>1</td>\n",
       "    </tr>\n",
       "    <tr>\n",
       "      <th>4</th>\n",
       "      <td>Finished</td>\n",
       "      <td>10/2/2020 19:01</td>\n",
       "      <td>10/2/2020 19:38</td>\n",
       "      <td>36 mins 5 secs</td>\n",
       "      <td>9.4</td>\n",
       "      <td>0</td>\n",
       "      <td>1</td>\n",
       "      <td>0</td>\n",
       "      <td>0.4</td>\n",
       "      <td>0</td>\n",
       "      <td>0</td>\n",
       "      <td>1</td>\n",
       "      <td>0</td>\n",
       "      <td>1</td>\n",
       "      <td>1</td>\n",
       "      <td>1</td>\n",
       "      <td>1</td>\n",
       "      <td>1</td>\n",
       "      <td>1</td>\n",
       "      <td>1</td>\n",
       "    </tr>\n",
       "  </tbody>\n",
       "</table>\n",
       "</div>"
      ],
      "text/plain": [
       "      State       Started on        Completed       Time taken Grade/15.00  \\\n",
       "0  Finished  10/2/2020 19:00  10/2/2020 19:49   49 mins 6 secs       12.75   \n",
       "1  Finished  10/2/2020 19:00  10/2/2020 19:40  40 mins 49 secs          13   \n",
       "2  Finished  10/2/2020 19:00  10/2/2020 19:19  19 mins 45 secs        11.5   \n",
       "3  Finished  10/2/2020 19:01  10/2/2020 19:41  40 mins 13 secs        9.85   \n",
       "4  Finished  10/2/2020 19:01  10/2/2020 19:38   36 mins 5 secs         9.4   \n",
       "\n",
       "  Q. 1 /1.00 Q. 2 /1.00 Q. 3 /1.00 Q. 4 /1.00 Q. 5 /1.00 Q. 6 /1.00  \\\n",
       "0          1          1          1          1          1          1   \n",
       "1          1          1          0          1          1          1   \n",
       "2          1          1          0          0          1          1   \n",
       "3          1          0          0        0.6          1          0   \n",
       "4          0          1          0        0.4          0          0   \n",
       "\n",
       "  Q. 7 /1.00 Q. 8 /1.00 Q. 9 /1.00 Q. 10 /1.00 Q. 11 /1.00 Q. 12 /1.00  \\\n",
       "0       0.75          0          1           1           1           1   \n",
       "1          1          1          1           1           1           1   \n",
       "2        0.5          0          1           1           1           1   \n",
       "3       0.25          0          1           1           1           1   \n",
       "4          1          0          1           1           1           1   \n",
       "\n",
       "  Q. 13 /1.00 Q. 14 /1.00 Q. 15 /1.00  \n",
       "0           0           1           1  \n",
       "1           1           0           1  \n",
       "2           1           1           1  \n",
       "3           1           1           1  \n",
       "4           1           1           1  "
      ]
     },
     "execution_count": 2,
     "metadata": {},
     "output_type": "execute_result"
    }
   ],
   "source": [
    "quiz_df = pd.read_csv('Data/QuizGrades.csv')\n",
    "quiz_df.head()"
   ]
  },
  {
   "cell_type": "markdown",
   "metadata": {},
   "source": [
    "Bạn cũng có thể dùng phương thức `.head` để xem các dòng đầu, `.tail` để xem các dòng cuối, và `.sample` để xem các dòng ngẫu nhiên."
   ]
  },
  {
   "cell_type": "markdown",
   "metadata": {},
   "source": [
    "### Dữ liệu có bao nhiêu dòng và bao nhiêu cột?"
   ]
  },
  {
   "cell_type": "code",
   "execution_count": 3,
   "metadata": {},
   "outputs": [
    {
     "data": {
      "text/plain": [
       "(98, 20)"
      ]
     },
     "execution_count": 3,
     "metadata": {},
     "output_type": "execute_result"
    }
   ],
   "source": [
    "quiz_df.shape"
   ]
  },
  {
   "cell_type": "markdown",
   "metadata": {},
   "source": [
    "### Mỗi dòng có ý nghĩa gì? Có vấn đề các dòng có ý nghĩa khác nhau không?"
   ]
  },
  {
   "cell_type": "markdown",
   "metadata": {},
   "source": [
    "Mỗi dòng (không xét dòng header) cho biết kết quả quiz của một sinh viên. Tuy nhiên, dòng cuối cùng có ý nghĩa khác: cho biết kết quả quiz trung bình. Ta nên tiền xử lý để xóa dòng này (khi cần thì dòng này có thể được tính từ các dòng còn lại)."
   ]
  },
  {
   "cell_type": "markdown",
   "metadata": {},
   "source": [
    "## Tiền xử lý "
   ]
  },
  {
   "cell_type": "code",
   "execution_count": 4,
   "metadata": {},
   "outputs": [
    {
     "data": {
      "text/html": [
       "<div>\n",
       "<style scoped>\n",
       "    .dataframe tbody tr th:only-of-type {\n",
       "        vertical-align: middle;\n",
       "    }\n",
       "\n",
       "    .dataframe tbody tr th {\n",
       "        vertical-align: top;\n",
       "    }\n",
       "\n",
       "    .dataframe thead th {\n",
       "        text-align: right;\n",
       "    }\n",
       "</style>\n",
       "<table border=\"1\" class=\"dataframe\">\n",
       "  <thead>\n",
       "    <tr style=\"text-align: right;\">\n",
       "      <th></th>\n",
       "      <th>State</th>\n",
       "      <th>Started on</th>\n",
       "      <th>Completed</th>\n",
       "      <th>Time taken</th>\n",
       "      <th>Grade/15.00</th>\n",
       "      <th>Q. 1 /1.00</th>\n",
       "      <th>Q. 2 /1.00</th>\n",
       "      <th>Q. 3 /1.00</th>\n",
       "      <th>Q. 4 /1.00</th>\n",
       "      <th>Q. 5 /1.00</th>\n",
       "      <th>Q. 6 /1.00</th>\n",
       "      <th>Q. 7 /1.00</th>\n",
       "      <th>Q. 8 /1.00</th>\n",
       "      <th>Q. 9 /1.00</th>\n",
       "      <th>Q. 10 /1.00</th>\n",
       "      <th>Q. 11 /1.00</th>\n",
       "      <th>Q. 12 /1.00</th>\n",
       "      <th>Q. 13 /1.00</th>\n",
       "      <th>Q. 14 /1.00</th>\n",
       "      <th>Q. 15 /1.00</th>\n",
       "    </tr>\n",
       "  </thead>\n",
       "  <tbody>\n",
       "    <tr>\n",
       "      <th>94</th>\n",
       "      <td>Finished</td>\n",
       "      <td>10/2/2020 22:45</td>\n",
       "      <td>10/2/2020 22:58</td>\n",
       "      <td>13 mins 21 secs</td>\n",
       "      <td>12.25</td>\n",
       "      <td>1</td>\n",
       "      <td>1</td>\n",
       "      <td>1</td>\n",
       "      <td>1</td>\n",
       "      <td>1</td>\n",
       "      <td>1</td>\n",
       "      <td>0.25</td>\n",
       "      <td>1</td>\n",
       "      <td>1</td>\n",
       "      <td>0</td>\n",
       "      <td>1</td>\n",
       "      <td>1</td>\n",
       "      <td>1</td>\n",
       "      <td>0</td>\n",
       "      <td>1</td>\n",
       "    </tr>\n",
       "    <tr>\n",
       "      <th>95</th>\n",
       "      <td>Finished</td>\n",
       "      <td>10/2/2020 22:47</td>\n",
       "      <td>10/2/2020 22:59</td>\n",
       "      <td>12 mins 3 secs</td>\n",
       "      <td>7.2</td>\n",
       "      <td>1</td>\n",
       "      <td>1</td>\n",
       "      <td>0</td>\n",
       "      <td>0.2</td>\n",
       "      <td>1</td>\n",
       "      <td>0</td>\n",
       "      <td>0</td>\n",
       "      <td>0</td>\n",
       "      <td>0</td>\n",
       "      <td>0</td>\n",
       "      <td>1</td>\n",
       "      <td>1</td>\n",
       "      <td>1</td>\n",
       "      <td>1</td>\n",
       "      <td>0</td>\n",
       "    </tr>\n",
       "    <tr>\n",
       "      <th>96</th>\n",
       "      <td>Finished</td>\n",
       "      <td>10/2/2020 22:53</td>\n",
       "      <td>10/2/2020 22:56</td>\n",
       "      <td>2 mins 59 secs</td>\n",
       "      <td>13.05</td>\n",
       "      <td>1</td>\n",
       "      <td>1</td>\n",
       "      <td>1</td>\n",
       "      <td>0.8</td>\n",
       "      <td>1</td>\n",
       "      <td>1</td>\n",
       "      <td>0.25</td>\n",
       "      <td>1</td>\n",
       "      <td>1</td>\n",
       "      <td>1</td>\n",
       "      <td>1</td>\n",
       "      <td>1</td>\n",
       "      <td>1</td>\n",
       "      <td>0</td>\n",
       "      <td>1</td>\n",
       "    </tr>\n",
       "  </tbody>\n",
       "</table>\n",
       "</div>"
      ],
      "text/plain": [
       "       State       Started on        Completed       Time taken Grade/15.00  \\\n",
       "94  Finished  10/2/2020 22:45  10/2/2020 22:58  13 mins 21 secs       12.25   \n",
       "95  Finished  10/2/2020 22:47  10/2/2020 22:59   12 mins 3 secs         7.2   \n",
       "96  Finished  10/2/2020 22:53  10/2/2020 22:56   2 mins 59 secs       13.05   \n",
       "\n",
       "   Q. 1 /1.00 Q. 2 /1.00 Q. 3 /1.00 Q. 4 /1.00 Q. 5 /1.00 Q. 6 /1.00  \\\n",
       "94          1          1          1          1          1          1   \n",
       "95          1          1          0        0.2          1          0   \n",
       "96          1          1          1        0.8          1          1   \n",
       "\n",
       "   Q. 7 /1.00 Q. 8 /1.00 Q. 9 /1.00 Q. 10 /1.00 Q. 11 /1.00 Q. 12 /1.00  \\\n",
       "94       0.25          1          1           0           1           1   \n",
       "95          0          0          0           0           1           1   \n",
       "96       0.25          1          1           1           1           1   \n",
       "\n",
       "   Q. 13 /1.00 Q. 14 /1.00 Q. 15 /1.00  \n",
       "94           1           0           1  \n",
       "95           1           1           0  \n",
       "96           1           0           1  "
      ]
     },
     "execution_count": 4,
     "metadata": {},
     "output_type": "execute_result"
    }
   ],
   "source": [
    "# Xóa đi dòng cuối: dòng có tên dòng là 97\n",
    "# (Ở đây, tên dòng trùng với chỉ số vị trí; Pandas gọi tên dòng là \"index\") \n",
    "# (errors='ignore' để khi xóa rồi thì chạy lại cell này sẽ không bị lỗi)\n",
    "quiz_df.drop(index=97, inplace=True, errors='ignore')\n",
    "quiz_df.tail(3)"
   ]
  },
  {
   "cell_type": "markdown",
   "metadata": {},
   "source": [
    "## Khám phá dữ liệu "
   ]
  },
  {
   "cell_type": "markdown",
   "metadata": {},
   "source": [
    "### Dữ liệu có các dòng bị lặp không?"
   ]
  },
  {
   "cell_type": "code",
   "execution_count": 5,
   "metadata": {},
   "outputs": [
    {
     "data": {
      "text/html": [
       "<div>\n",
       "<style scoped>\n",
       "    .dataframe tbody tr th:only-of-type {\n",
       "        vertical-align: middle;\n",
       "    }\n",
       "\n",
       "    .dataframe tbody tr th {\n",
       "        vertical-align: top;\n",
       "    }\n",
       "\n",
       "    .dataframe thead th {\n",
       "        text-align: right;\n",
       "    }\n",
       "</style>\n",
       "<table border=\"1\" class=\"dataframe\">\n",
       "  <thead>\n",
       "    <tr style=\"text-align: right;\">\n",
       "      <th></th>\n",
       "      <th>a</th>\n",
       "      <th>b</th>\n",
       "    </tr>\n",
       "  </thead>\n",
       "  <tbody>\n",
       "    <tr>\n",
       "      <th>0</th>\n",
       "      <td>1</td>\n",
       "      <td>10</td>\n",
       "    </tr>\n",
       "    <tr>\n",
       "      <th>1</th>\n",
       "      <td>1</td>\n",
       "      <td>10</td>\n",
       "    </tr>\n",
       "    <tr>\n",
       "      <th>2</th>\n",
       "      <td>1</td>\n",
       "      <td>10</td>\n",
       "    </tr>\n",
       "    <tr>\n",
       "      <th>3</th>\n",
       "      <td>2</td>\n",
       "      <td>20</td>\n",
       "    </tr>\n",
       "    <tr>\n",
       "      <th>4</th>\n",
       "      <td>2</td>\n",
       "      <td>20</td>\n",
       "    </tr>\n",
       "    <tr>\n",
       "      <th>5</th>\n",
       "      <td>3</td>\n",
       "      <td>30</td>\n",
       "    </tr>\n",
       "  </tbody>\n",
       "</table>\n",
       "</div>"
      ],
      "text/plain": [
       "   a   b\n",
       "0  1  10\n",
       "1  1  10\n",
       "2  1  10\n",
       "3  2  20\n",
       "4  2  20\n",
       "5  3  30"
      ]
     },
     "execution_count": 5,
     "metadata": {},
     "output_type": "execute_result"
    }
   ],
   "source": [
    "# Tạo một DataFrame để test\n",
    "df = pd.DataFrame({'a': [1, 1, 1, 2, 2, 3], 'b': [10, 10, 10, 20, 20, 30]})\n",
    "df"
   ]
  },
  {
   "cell_type": "code",
   "execution_count": 6,
   "metadata": {},
   "outputs": [
    {
     "data": {
      "text/plain": [
       "0    False\n",
       "1     True\n",
       "2     True\n",
       "3    False\n",
       "4     True\n",
       "5    False\n",
       "dtype: bool"
      ]
     },
     "execution_count": 6,
     "metadata": {},
     "output_type": "execute_result"
    }
   ],
   "source": [
    "# Những dòng nào bị lặp?\n",
    "# (Mặc định thì phương thức .duplicated sẽ xem dòng đầu tiên trong nhóm các dòng\n",
    "# giống nhau là không bị lặp; bạn có thể xem thêm document của phương thức này)\n",
    "df.duplicated() "
   ]
  },
  {
   "cell_type": "code",
   "execution_count": 7,
   "metadata": {},
   "outputs": [
    {
     "data": {
      "text/plain": [
       "3"
      ]
     },
     "execution_count": 7,
     "metadata": {},
     "output_type": "execute_result"
    }
   ],
   "source": [
    "# Có bao nhiêu dòng bị lặp?\n",
    "df.duplicated().sum()"
   ]
  },
  {
   "cell_type": "code",
   "execution_count": 8,
   "metadata": {},
   "outputs": [
    {
     "data": {
      "text/html": [
       "<div>\n",
       "<style scoped>\n",
       "    .dataframe tbody tr th:only-of-type {\n",
       "        vertical-align: middle;\n",
       "    }\n",
       "\n",
       "    .dataframe tbody tr th {\n",
       "        vertical-align: top;\n",
       "    }\n",
       "\n",
       "    .dataframe thead th {\n",
       "        text-align: right;\n",
       "    }\n",
       "</style>\n",
       "<table border=\"1\" class=\"dataframe\">\n",
       "  <thead>\n",
       "    <tr style=\"text-align: right;\">\n",
       "      <th></th>\n",
       "      <th>a</th>\n",
       "      <th>b</th>\n",
       "    </tr>\n",
       "  </thead>\n",
       "  <tbody>\n",
       "    <tr>\n",
       "      <th>0</th>\n",
       "      <td>1</td>\n",
       "      <td>10</td>\n",
       "    </tr>\n",
       "    <tr>\n",
       "      <th>3</th>\n",
       "      <td>2</td>\n",
       "      <td>20</td>\n",
       "    </tr>\n",
       "    <tr>\n",
       "      <th>5</th>\n",
       "      <td>3</td>\n",
       "      <td>30</td>\n",
       "    </tr>\n",
       "  </tbody>\n",
       "</table>\n",
       "</div>"
      ],
      "text/plain": [
       "   a   b\n",
       "0  1  10\n",
       "3  2  20\n",
       "5  3  30"
      ]
     },
     "execution_count": 8,
     "metadata": {},
     "output_type": "execute_result"
    }
   ],
   "source": [
    "# Bỏ đi các dòng bị lặp\n",
    "df.drop_duplicates()"
   ]
  },
  {
   "cell_type": "markdown",
   "metadata": {},
   "source": [
    "Quay trở lại với DataFrame `quiz_df`. "
   ]
  },
  {
   "cell_type": "code",
   "execution_count": 9,
   "metadata": {},
   "outputs": [
    {
     "data": {
      "text/plain": [
       "0"
      ]
     },
     "execution_count": 9,
     "metadata": {},
     "output_type": "execute_result"
    }
   ],
   "source": [
    "# Có bao nhiêu dòng bị lặp?\n",
    "quiz_df.duplicated().sum()"
   ]
  },
  {
   "cell_type": "markdown",
   "metadata": {},
   "source": [
    "### Mỗi cột có ý nghĩa gì?"
   ]
  },
  {
   "cell_type": "code",
   "execution_count": 10,
   "metadata": {},
   "outputs": [
    {
     "data": {
      "text/html": [
       "<div>\n",
       "<style scoped>\n",
       "    .dataframe tbody tr th:only-of-type {\n",
       "        vertical-align: middle;\n",
       "    }\n",
       "\n",
       "    .dataframe tbody tr th {\n",
       "        vertical-align: top;\n",
       "    }\n",
       "\n",
       "    .dataframe thead th {\n",
       "        text-align: right;\n",
       "    }\n",
       "</style>\n",
       "<table border=\"1\" class=\"dataframe\">\n",
       "  <thead>\n",
       "    <tr style=\"text-align: right;\">\n",
       "      <th></th>\n",
       "      <th>State</th>\n",
       "      <th>Started on</th>\n",
       "      <th>Completed</th>\n",
       "      <th>Time taken</th>\n",
       "      <th>Grade/15.00</th>\n",
       "      <th>Q. 1 /1.00</th>\n",
       "      <th>Q. 2 /1.00</th>\n",
       "      <th>Q. 3 /1.00</th>\n",
       "      <th>Q. 4 /1.00</th>\n",
       "      <th>Q. 5 /1.00</th>\n",
       "      <th>Q. 6 /1.00</th>\n",
       "      <th>Q. 7 /1.00</th>\n",
       "      <th>Q. 8 /1.00</th>\n",
       "      <th>Q. 9 /1.00</th>\n",
       "      <th>Q. 10 /1.00</th>\n",
       "      <th>Q. 11 /1.00</th>\n",
       "      <th>Q. 12 /1.00</th>\n",
       "      <th>Q. 13 /1.00</th>\n",
       "      <th>Q. 14 /1.00</th>\n",
       "      <th>Q. 15 /1.00</th>\n",
       "    </tr>\n",
       "  </thead>\n",
       "  <tbody>\n",
       "    <tr>\n",
       "      <th>0</th>\n",
       "      <td>Finished</td>\n",
       "      <td>10/2/2020 19:00</td>\n",
       "      <td>10/2/2020 19:49</td>\n",
       "      <td>49 mins 6 secs</td>\n",
       "      <td>12.75</td>\n",
       "      <td>1</td>\n",
       "      <td>1</td>\n",
       "      <td>1</td>\n",
       "      <td>1</td>\n",
       "      <td>1</td>\n",
       "      <td>1</td>\n",
       "      <td>0.75</td>\n",
       "      <td>0</td>\n",
       "      <td>1</td>\n",
       "      <td>1</td>\n",
       "      <td>1</td>\n",
       "      <td>1</td>\n",
       "      <td>0</td>\n",
       "      <td>1</td>\n",
       "      <td>1</td>\n",
       "    </tr>\n",
       "  </tbody>\n",
       "</table>\n",
       "</div>"
      ],
      "text/plain": [
       "      State       Started on        Completed      Time taken Grade/15.00  \\\n",
       "0  Finished  10/2/2020 19:00  10/2/2020 19:49  49 mins 6 secs       12.75   \n",
       "\n",
       "  Q. 1 /1.00 Q. 2 /1.00 Q. 3 /1.00 Q. 4 /1.00 Q. 5 /1.00 Q. 6 /1.00  \\\n",
       "0          1          1          1          1          1          1   \n",
       "\n",
       "  Q. 7 /1.00 Q. 8 /1.00 Q. 9 /1.00 Q. 10 /1.00 Q. 11 /1.00 Q. 12 /1.00  \\\n",
       "0       0.75          0          1           1           1           1   \n",
       "\n",
       "  Q. 13 /1.00 Q. 14 /1.00 Q. 15 /1.00  \n",
       "0           0           1           1  "
      ]
     },
     "execution_count": 10,
     "metadata": {},
     "output_type": "execute_result"
    }
   ],
   "source": [
    "quiz_df.head(1)"
   ]
  },
  {
   "cell_type": "markdown",
   "metadata": {},
   "source": [
    "- Cột \"State\": cho biết trạng thái làm quiz (ví dụ, nếu đã nộp bài rồi thì \"State\" sẽ là \"Finished\").\n",
    "- Cột \"Started on\", \"Completed\", và \"Time taken\": lần lượt cho biết thời điểm bắt đầu làm quiz, thời điểm hoàn thành, và thời gian tính từ thời điểm bắt đầu làm cho tới thời điểm hoàn thành.\n",
    "- Cột \"Grade/15.00\" và các cột \"Q. 1 /1.00\", ..., \"Q. 15 /1.00\": lần lượt cho biết điểm tổng và điểm của từng câu (có tất cả 15 câu, mỗi câu 1 điểm). "
   ]
  },
  {
   "cell_type": "markdown",
   "metadata": {},
   "source": [
    "### Mỗi cột hiện đang có kiểu dữ liệu gì? Có cột nào có kiểu dữ liệu chưa phù hợp để có thể xử lý tiếp không?"
   ]
  },
  {
   "cell_type": "code",
   "execution_count": 11,
   "metadata": {},
   "outputs": [
    {
     "data": {
      "text/plain": [
       "State          object\n",
       "Started on     object\n",
       "Completed      object\n",
       "Time taken     object\n",
       "Grade/15.00    object\n",
       "Q. 1 /1.00     object\n",
       "Q. 2 /1.00     object\n",
       "Q. 3 /1.00     object\n",
       "Q. 4 /1.00     object\n",
       "Q. 5 /1.00     object\n",
       "Q. 6 /1.00     object\n",
       "Q. 7 /1.00     object\n",
       "Q. 8 /1.00     object\n",
       "Q. 9 /1.00     object\n",
       "Q. 10 /1.00    object\n",
       "Q. 11 /1.00    object\n",
       "Q. 12 /1.00    object\n",
       "Q. 13 /1.00    object\n",
       "Q. 14 /1.00    object\n",
       "Q. 15 /1.00    object\n",
       "dtype: object"
      ]
     },
     "execution_count": 11,
     "metadata": {},
     "output_type": "execute_result"
    }
   ],
   "source": [
    "quiz_df.dtypes"
   ]
  },
  {
   "cell_type": "markdown",
   "metadata": {},
   "source": [
    "Trong Pandas, kiểu dữ liệu \"object\" thường ám chỉ chuỗi. Tuy nhiên, \"object\" có thể ám chỉ một kiểu dữ liệu bất kỳ. Bạn hình dung \"object\" giống như con trỏ, có thể trỏ tới một đối tượng bất kỳ. Bạn có thể đọc thêm [ở đây](https://stackoverflow.com/questions/21018654/strings-in-a-dataframe-but-dtype-is-object). \n",
    "\n",
    "Để biết chính xác kiểu dữ liệu \"object\" ám chỉ kiểu dữ liệu gì, ta có thể vào từng phần tử và dùng câu lệnh `type` để xem kiểu dữ liệu."
   ]
  },
  {
   "cell_type": "code",
   "execution_count": 12,
   "metadata": {},
   "outputs": [
    {
     "data": {
      "text/plain": [
       "str"
      ]
     },
     "execution_count": 12,
     "metadata": {},
     "output_type": "execute_result"
    }
   ],
   "source": [
    "# Xem type của phần tử ở dòng có tên là 0 và cột có tên là 'Q. 1 /1.00'\n",
    "type(quiz_df.loc[0, 'Q. 1 /1.00'])"
   ]
  },
  {
   "cell_type": "markdown",
   "metadata": {},
   "source": [
    "---"
   ]
  },
  {
   "cell_type": "markdown",
   "metadata": {},
   "source": [
    "Nhân đây, mình sẽ nói về cách truy xuất các phần tử trong DataFrame thông qua chỉ số vị trí dòng & cột, hoặc thông qua tên dòng & cột. "
   ]
  },
  {
   "cell_type": "markdown",
   "metadata": {},
   "source": [
    "**Truy xuất thông qua chỉ số vị trí dòng & cột**\n",
    "\n",
    "`df.iloc[r, c]`\n",
    "\n",
    "- `r` có thể là:\n",
    "    - Một chỉ số vị trí (0, 1, 2, ...)\n",
    "    - List/array/series các chỉ số vị trí\n",
    "    - Slicing theo chỉ số vị trí\n",
    "    - List/array các giá trị True/False (hiện tại thì `iloc` không chạy được với series True/False)\n",
    "- `c` tương tự như `r`\n",
    "- Dùng một chỉ số vị trí (một con số) thì kết quả sẽ bị giảm chiều\n",
    "    - Nếu hoặc `r` hoặc `c` là một chỉ số vị trí (một con số) thì kết quả là series\n",
    "    - Nếu cả `r` và `c` đều là một chỉ số vị trí (một con số) thì kết quả là một giá trị"
   ]
  },
  {
   "cell_type": "markdown",
   "metadata": {},
   "source": [
    "**Truy xuất thông qua tên dòng & cột**\n",
    "\n",
    "`df.loc[r, c]`\n",
    "\n",
    "- `r` có thể là: \n",
    "    - Một tên\n",
    "    - List/array/series các tên\n",
    "    - Slicing theo tên (khác với slicing theo chỉ số vị trí, slicing theo tên bao gồm cả start **và end**)\n",
    "    - List/array/series các giá trị True/False\n",
    "- `c` tương tự như `r`\n",
    "- Dùng một tên thì kết quả sẽ bị giảm chiều\n",
    "    - Nếu hoặc `r` hoặc `c` là một tên thì kết quả là series\n",
    "    - Nếu cả `r` và `c` đều là một tên thì kết quả là một giá trị"
   ]
  },
  {
   "cell_type": "markdown",
   "metadata": {},
   "source": [
    "**Shortcut cho các truy xuất thường dùng**\n",
    "\n",
    "`df[...]`\n",
    "\n",
    "- `df[tên hoặc list các tên]` là shortcut của `df.loc[:, tên hoặc list các tên]`\n",
    "- `df[list/array/series các giá trị True/False]` là shortcut của `df.loc[list/array/series các giá trị True/False, :]`\n",
    "- `df[slicing]` là shortcut của `df.iloc[slicing, :]`"
   ]
  },
  {
   "cell_type": "markdown",
   "metadata": {},
   "source": [
    "---"
   ]
  },
  {
   "cell_type": "markdown",
   "metadata": {},
   "source": [
    "Quay trở lại `quiz_df` với kiểu dữ liệu hiện có của mỗi cột. Có vẻ tất cả các cột đều đang được lưu trữ dưới dạng chuỗi. Ta cần tiền xử lý để các cột có kiểu dữ liệu phù hợp để xử lý tiếp:\n",
    "- Cột \"State\": không cần làm gì, để dạng chuỗi là hợp lý\n",
    "- Cột \"Started on\", \"Completed\": chuyển về kiểu dữ liệu thời gian\n",
    "- Cột \"Time taken\": chuyển về kiểu dữ liệu số (phút)\n",
    "- Các cột còn lại (\"Grade/15.00\", \"Q. 1 /1.00\", ...): chuyển về kiểu dữ liệu số"
   ]
  },
  {
   "cell_type": "markdown",
   "metadata": {},
   "source": [
    "## Tiền xử lý "
   ]
  },
  {
   "cell_type": "code",
   "execution_count": 13,
   "metadata": {},
   "outputs": [
    {
     "data": {
      "text/plain": [
       "0    2020-10-02 19:00:00\n",
       "1    2020-10-02 19:00:00\n",
       "2    2020-10-02 19:00:00\n",
       "3    2020-10-02 19:01:00\n",
       "4    2020-10-02 19:01:00\n",
       "             ...        \n",
       "92   2020-10-02 22:28:00\n",
       "93   2020-10-02 22:41:00\n",
       "94   2020-10-02 22:45:00\n",
       "95   2020-10-02 22:47:00\n",
       "96   2020-10-02 22:53:00\n",
       "Name: Started on, Length: 97, dtype: datetime64[ns]"
      ]
     },
     "execution_count": 13,
     "metadata": {},
     "output_type": "execute_result"
    }
   ],
   "source": [
    "# Chuyển sang kiểu dữ liệu thời gian: dùng hàm pd.to_datetime\n",
    "# Có thể cho tham số errors='coerce' -> nếu gặp các giá trị\n",
    "# không chuyển được thì sẽ cho là NaT\n",
    "# Ở đây minh họa với cột \"Started on\"\n",
    "pd.to_datetime(quiz_df['Started on'])"
   ]
  },
  {
   "cell_type": "code",
   "execution_count": 14,
   "metadata": {},
   "outputs": [
    {
     "data": {
      "text/plain": [
       "0     12.75\n",
       "1     13.00\n",
       "2     11.50\n",
       "3      9.85\n",
       "4      9.40\n",
       "      ...  \n",
       "92    14.05\n",
       "93    13.05\n",
       "94    12.25\n",
       "95     7.20\n",
       "96    13.05\n",
       "Name: Grade/15.00, Length: 97, dtype: float64"
      ]
     },
     "execution_count": 14,
     "metadata": {},
     "output_type": "execute_result"
    }
   ],
   "source": [
    "# Chuyển sang kiểu dữ liệu số: dùng hàm pd.to_numeric\n",
    "# Trước đó: \n",
    "# - Cần replace giá trị '-' (ứng với những bạn chưa làm) \n",
    "#   bằng '0', nếu không thì sẽ xảy ra lỗi\n",
    "# - HOẶC: cho tham số errors của pd.to_numeric bằng 'coerce'\n",
    "#   -> những giá trị không chuyển được thì sẽ cho là NaN \n",
    "# Ở đây minh họa với cột \"Grader/15.00\" \n",
    "\n",
    "# pd.to_numeric(quiz_df['Grade/15.00'].replace('-', '0'))\n",
    "pd.to_numeric(quiz_df['Grade/15.00'], errors='coerce')"
   ]
  },
  {
   "cell_type": "code",
   "execution_count": 15,
   "metadata": {},
   "outputs": [
    {
     "data": {
      "text/plain": [
       "87    22 mins 19 secs\n",
       "48    52 mins 17 secs\n",
       "93     10 mins 8 secs\n",
       "37    42 mins 29 secs\n",
       "94    13 mins 21 secs\n",
       "52     2 mins 49 secs\n",
       "9     26 mins 52 secs\n",
       "10    27 mins 46 secs\n",
       "73    38 mins 39 secs\n",
       "96     2 mins 59 secs\n",
       "Name: Time taken, dtype: object"
      ]
     },
     "execution_count": 15,
     "metadata": {},
     "output_type": "execute_result"
    }
   ],
   "source": [
    "# Bây giờ là cột khó nhất: cột \"Time taken\"\n",
    "# Bạn hãy chạy cell này nhiều lần để hiểu rõ hơn về cột \"Time taken\"\n",
    "quiz_df['Time taken'].sample(10) "
   ]
  },
  {
   "cell_type": "markdown",
   "metadata": {},
   "source": [
    "Như vậy, cột này không chỉ có \"mins\" và \"secs\", mà có thể có cả \"hour\" (có thể có hoặc không có \"s\", tương tự với \"min\" và \"sec\"), có khi chỉ có \"mins\", ... Do đó, ta sẽ chuyển cột này sang phút bằng cách:\n",
    "- Rút trích cột giờ (phần tử nào không rút trích được thì cho là 0)\n",
    "- Rút trích cột phút (phần tử nào không rút trích được thì cho là 0)\n",
    "- Rút trích cột giây (phần tử nào không rút trích được thì cho là 0)\n",
    "- Sau cùng, chuyển sang cột phút bằng cách: cột giờ nhân 60 + cột phút + cột giây chia 60"
   ]
  },
  {
   "cell_type": "code",
   "execution_count": 16,
   "metadata": {},
   "outputs": [
    {
     "data": {
      "text/plain": [
       "0     NaN\n",
       "1     NaN\n",
       "2     NaN\n",
       "3     NaN\n",
       "4     NaN\n",
       "5     NaN\n",
       "6     NaN\n",
       "7     NaN\n",
       "8     NaN\n",
       "9     NaN\n",
       "10    NaN\n",
       "11    NaN\n",
       "12    NaN\n",
       "13    NaN\n",
       "14      1\n",
       "15    NaN\n",
       "16    NaN\n",
       "17      1\n",
       "18    NaN\n",
       "19    NaN\n",
       "Name: Time taken, dtype: object"
      ]
     },
     "execution_count": 16,
     "metadata": {},
     "output_type": "execute_result"
    }
   ],
   "source": [
    "# Minh họa rút trích cột giờ\n",
    "# Khi dùng phương thức .str.extract thì bạn phải cho biết là muốn rút trích ra\n",
    "# phần nào trong pattern của Regex bằng cách bọc phần đó lại trong dấu ()\n",
    "# Ngoài ra: để kết quả là một Series thì bạn cho expand=False\n",
    "df = quiz_df['Time taken'].str.extract(r'(\\d+) hour', expand=False)\n",
    "# df = df.fillna(0) # Điền NaN bằng 0\n",
    "df.head(20)"
   ]
  },
  {
   "cell_type": "markdown",
   "metadata": {},
   "source": [
    "Mình đã chuẩn bị cho bạn các thứ cần thiết rồi. Bạn hãy thử hoàn thành phần chuyển tất cả các cột trong `quiz_df` sang kiểu dữ liệu phù hợp (`quiz_df.dtypes` sẽ thay đổi)."
   ]
  },
  {
   "cell_type": "markdown",
   "metadata": {},
   "source": [
    "TIẾP TỤC BUỔI TRƯỚC "
   ]
  },
  {
   "cell_type": "code",
   "execution_count": 17,
   "metadata": {},
   "outputs": [
    {
     "data": {
      "text/html": [
       "<div>\n",
       "<style scoped>\n",
       "    .dataframe tbody tr th:only-of-type {\n",
       "        vertical-align: middle;\n",
       "    }\n",
       "\n",
       "    .dataframe tbody tr th {\n",
       "        vertical-align: top;\n",
       "    }\n",
       "\n",
       "    .dataframe thead th {\n",
       "        text-align: right;\n",
       "    }\n",
       "</style>\n",
       "<table border=\"1\" class=\"dataframe\">\n",
       "  <thead>\n",
       "    <tr style=\"text-align: right;\">\n",
       "      <th></th>\n",
       "      <th>State</th>\n",
       "      <th>Started on</th>\n",
       "      <th>Completed</th>\n",
       "      <th>Time taken</th>\n",
       "      <th>Grade/15.00</th>\n",
       "      <th>Q. 1 /1.00</th>\n",
       "      <th>Q. 2 /1.00</th>\n",
       "      <th>Q. 3 /1.00</th>\n",
       "      <th>Q. 4 /1.00</th>\n",
       "      <th>Q. 5 /1.00</th>\n",
       "      <th>Q. 6 /1.00</th>\n",
       "      <th>Q. 7 /1.00</th>\n",
       "      <th>Q. 8 /1.00</th>\n",
       "      <th>Q. 9 /1.00</th>\n",
       "      <th>Q. 10 /1.00</th>\n",
       "      <th>Q. 11 /1.00</th>\n",
       "      <th>Q. 12 /1.00</th>\n",
       "      <th>Q. 13 /1.00</th>\n",
       "      <th>Q. 14 /1.00</th>\n",
       "      <th>Q. 15 /1.00</th>\n",
       "    </tr>\n",
       "  </thead>\n",
       "  <tbody>\n",
       "    <tr>\n",
       "      <th>0</th>\n",
       "      <td>Finished</td>\n",
       "      <td>10/2/2020 19:00</td>\n",
       "      <td>10/2/2020 19:49</td>\n",
       "      <td>49 mins 6 secs</td>\n",
       "      <td>12.75</td>\n",
       "      <td>1</td>\n",
       "      <td>1</td>\n",
       "      <td>1</td>\n",
       "      <td>1</td>\n",
       "      <td>1</td>\n",
       "      <td>1</td>\n",
       "      <td>0.75</td>\n",
       "      <td>0</td>\n",
       "      <td>1</td>\n",
       "      <td>1</td>\n",
       "      <td>1</td>\n",
       "      <td>1</td>\n",
       "      <td>0</td>\n",
       "      <td>1</td>\n",
       "      <td>1</td>\n",
       "    </tr>\n",
       "    <tr>\n",
       "      <th>1</th>\n",
       "      <td>Finished</td>\n",
       "      <td>10/2/2020 19:00</td>\n",
       "      <td>10/2/2020 19:40</td>\n",
       "      <td>40 mins 49 secs</td>\n",
       "      <td>13</td>\n",
       "      <td>1</td>\n",
       "      <td>1</td>\n",
       "      <td>0</td>\n",
       "      <td>1</td>\n",
       "      <td>1</td>\n",
       "      <td>1</td>\n",
       "      <td>1</td>\n",
       "      <td>1</td>\n",
       "      <td>1</td>\n",
       "      <td>1</td>\n",
       "      <td>1</td>\n",
       "      <td>1</td>\n",
       "      <td>1</td>\n",
       "      <td>0</td>\n",
       "      <td>1</td>\n",
       "    </tr>\n",
       "  </tbody>\n",
       "</table>\n",
       "</div>"
      ],
      "text/plain": [
       "      State       Started on        Completed       Time taken Grade/15.00  \\\n",
       "0  Finished  10/2/2020 19:00  10/2/2020 19:49   49 mins 6 secs       12.75   \n",
       "1  Finished  10/2/2020 19:00  10/2/2020 19:40  40 mins 49 secs          13   \n",
       "\n",
       "  Q. 1 /1.00 Q. 2 /1.00 Q. 3 /1.00 Q. 4 /1.00 Q. 5 /1.00 Q. 6 /1.00  \\\n",
       "0          1          1          1          1          1          1   \n",
       "1          1          1          0          1          1          1   \n",
       "\n",
       "  Q. 7 /1.00 Q. 8 /1.00 Q. 9 /1.00 Q. 10 /1.00 Q. 11 /1.00 Q. 12 /1.00  \\\n",
       "0       0.75          0          1           1           1           1   \n",
       "1          1          1          1           1           1           1   \n",
       "\n",
       "  Q. 13 /1.00 Q. 14 /1.00 Q. 15 /1.00  \n",
       "0           0           1           1  \n",
       "1           1           0           1  "
      ]
     },
     "execution_count": 17,
     "metadata": {},
     "output_type": "execute_result"
    }
   ],
   "source": [
    "quiz_df.head(2)"
   ]
  },
  {
   "cell_type": "code",
   "execution_count": 18,
   "metadata": {},
   "outputs": [],
   "source": [
    "def convert_col_dtype(col):\n",
    "    if col.name in ['Started on', 'Completed']:\n",
    "        return pd.to_datetime(col, errors='coerce')\n",
    "    elif '/' in col.name:\n",
    "        return pd.to_numeric(col, errors='coerce')\n",
    "    elif col.name == 'Time taken':\n",
    "        h_col = col.str.extract(r'(\\d+) hour', expand=False)\n",
    "        h_col = pd.to_numeric(h_col.fillna(0))\n",
    "        m_col = col.str.extract(r'(\\d+) min', expand=False)\n",
    "        m_col = pd.to_numeric(m_col.fillna(0))\n",
    "        s_col = col.str.extract(r'(\\d+) sec', expand=False)\n",
    "        s_col = pd.to_numeric(s_col.fillna(0))\n",
    "        return h_col * 60 + m_col + s_col / 60\n",
    "    return col\n",
    "df = quiz_df.apply(convert_col_dtype)\n",
    "quiz_df = df"
   ]
  },
  {
   "cell_type": "code",
   "execution_count": 19,
   "metadata": {},
   "outputs": [
    {
     "data": {
      "text/html": [
       "<div>\n",
       "<style scoped>\n",
       "    .dataframe tbody tr th:only-of-type {\n",
       "        vertical-align: middle;\n",
       "    }\n",
       "\n",
       "    .dataframe tbody tr th {\n",
       "        vertical-align: top;\n",
       "    }\n",
       "\n",
       "    .dataframe thead th {\n",
       "        text-align: right;\n",
       "    }\n",
       "</style>\n",
       "<table border=\"1\" class=\"dataframe\">\n",
       "  <thead>\n",
       "    <tr style=\"text-align: right;\">\n",
       "      <th></th>\n",
       "      <th>State</th>\n",
       "      <th>Started on</th>\n",
       "      <th>Completed</th>\n",
       "      <th>Time taken</th>\n",
       "      <th>Grade/15.00</th>\n",
       "      <th>Q. 1 /1.00</th>\n",
       "      <th>Q. 2 /1.00</th>\n",
       "      <th>Q. 3 /1.00</th>\n",
       "      <th>Q. 4 /1.00</th>\n",
       "      <th>Q. 5 /1.00</th>\n",
       "      <th>Q. 6 /1.00</th>\n",
       "      <th>Q. 7 /1.00</th>\n",
       "      <th>Q. 8 /1.00</th>\n",
       "      <th>Q. 9 /1.00</th>\n",
       "      <th>Q. 10 /1.00</th>\n",
       "      <th>Q. 11 /1.00</th>\n",
       "      <th>Q. 12 /1.00</th>\n",
       "      <th>Q. 13 /1.00</th>\n",
       "      <th>Q. 14 /1.00</th>\n",
       "      <th>Q. 15 /1.00</th>\n",
       "    </tr>\n",
       "  </thead>\n",
       "  <tbody>\n",
       "    <tr>\n",
       "      <th>0</th>\n",
       "      <td>Finished</td>\n",
       "      <td>2020-10-02 19:00:00</td>\n",
       "      <td>2020-10-02 19:49:00</td>\n",
       "      <td>49.100000</td>\n",
       "      <td>12.75</td>\n",
       "      <td>1.0</td>\n",
       "      <td>1.0</td>\n",
       "      <td>1.0</td>\n",
       "      <td>1.0</td>\n",
       "      <td>1.0</td>\n",
       "      <td>1.0</td>\n",
       "      <td>0.75</td>\n",
       "      <td>0.0</td>\n",
       "      <td>1.0</td>\n",
       "      <td>1.0</td>\n",
       "      <td>1.0</td>\n",
       "      <td>1.0</td>\n",
       "      <td>0.0</td>\n",
       "      <td>1.0</td>\n",
       "      <td>1.0</td>\n",
       "    </tr>\n",
       "    <tr>\n",
       "      <th>1</th>\n",
       "      <td>Finished</td>\n",
       "      <td>2020-10-02 19:00:00</td>\n",
       "      <td>2020-10-02 19:40:00</td>\n",
       "      <td>40.816667</td>\n",
       "      <td>13.00</td>\n",
       "      <td>1.0</td>\n",
       "      <td>1.0</td>\n",
       "      <td>0.0</td>\n",
       "      <td>1.0</td>\n",
       "      <td>1.0</td>\n",
       "      <td>1.0</td>\n",
       "      <td>1.00</td>\n",
       "      <td>1.0</td>\n",
       "      <td>1.0</td>\n",
       "      <td>1.0</td>\n",
       "      <td>1.0</td>\n",
       "      <td>1.0</td>\n",
       "      <td>1.0</td>\n",
       "      <td>0.0</td>\n",
       "      <td>1.0</td>\n",
       "    </tr>\n",
       "  </tbody>\n",
       "</table>\n",
       "</div>"
      ],
      "text/plain": [
       "      State          Started on           Completed  Time taken  Grade/15.00  \\\n",
       "0  Finished 2020-10-02 19:00:00 2020-10-02 19:49:00   49.100000        12.75   \n",
       "1  Finished 2020-10-02 19:00:00 2020-10-02 19:40:00   40.816667        13.00   \n",
       "\n",
       "   Q. 1 /1.00  Q. 2 /1.00  Q. 3 /1.00  Q. 4 /1.00  Q. 5 /1.00  Q. 6 /1.00  \\\n",
       "0         1.0         1.0         1.0         1.0         1.0         1.0   \n",
       "1         1.0         1.0         0.0         1.0         1.0         1.0   \n",
       "\n",
       "   Q. 7 /1.00  Q. 8 /1.00  Q. 9 /1.00  Q. 10 /1.00  Q. 11 /1.00  Q. 12 /1.00  \\\n",
       "0        0.75         0.0         1.0          1.0          1.0          1.0   \n",
       "1        1.00         1.0         1.0          1.0          1.0          1.0   \n",
       "\n",
       "   Q. 13 /1.00  Q. 14 /1.00  Q. 15 /1.00  \n",
       "0          0.0          1.0          1.0  \n",
       "1          1.0          0.0          1.0  "
      ]
     },
     "execution_count": 19,
     "metadata": {},
     "output_type": "execute_result"
    }
   ],
   "source": [
    "quiz_df.head(2)"
   ]
  },
  {
   "cell_type": "code",
   "execution_count": 20,
   "metadata": {},
   "outputs": [
    {
     "data": {
      "text/plain": [
       "State                  object\n",
       "Started on     datetime64[ns]\n",
       "Completed      datetime64[ns]\n",
       "Time taken            float64\n",
       "Grade/15.00           float64\n",
       "Q. 1 /1.00            float64\n",
       "Q. 2 /1.00            float64\n",
       "Q. 3 /1.00            float64\n",
       "Q. 4 /1.00            float64\n",
       "Q. 5 /1.00            float64\n",
       "Q. 6 /1.00            float64\n",
       "Q. 7 /1.00            float64\n",
       "Q. 8 /1.00            float64\n",
       "Q. 9 /1.00            float64\n",
       "Q. 10 /1.00           float64\n",
       "Q. 11 /1.00           float64\n",
       "Q. 12 /1.00           float64\n",
       "Q. 13 /1.00           float64\n",
       "Q. 14 /1.00           float64\n",
       "Q. 15 /1.00           float64\n",
       "dtype: object"
      ]
     },
     "execution_count": 20,
     "metadata": {},
     "output_type": "execute_result"
    }
   ],
   "source": [
    "quiz_df.dtypes"
   ]
  },
  {
   "cell_type": "markdown",
   "metadata": {},
   "source": [
    "## Khám phá dữ liệu "
   ]
  },
  {
   "cell_type": "markdown",
   "metadata": {},
   "source": [
    "### Với mỗi cột có kiểu dữ liệu dạng số (numeric, datetime), các giá trị được phân bố như thế nào?\n",
    "\n",
    "- Số-lần/tỉ-lệ các giá trị thiếu\n",
    "- Min, 25th percentile (lower quartile), 50th percentile (median), 75th percentile (upper quartile), max. HOẶC: min, mean & standard deviation, max\n",
    "- Nếu chưa đủ: vẽ histogram"
   ]
  },
  {
   "cell_type": "code",
   "execution_count": 21,
   "metadata": {},
   "outputs": [
    {
     "data": {
      "text/html": [
       "<div>\n",
       "<style scoped>\n",
       "    .dataframe tbody tr th:only-of-type {\n",
       "        vertical-align: middle;\n",
       "    }\n",
       "\n",
       "    .dataframe tbody tr th {\n",
       "        vertical-align: top;\n",
       "    }\n",
       "\n",
       "    .dataframe thead th {\n",
       "        text-align: right;\n",
       "    }\n",
       "</style>\n",
       "<table border=\"1\" class=\"dataframe\">\n",
       "  <thead>\n",
       "    <tr style=\"text-align: right;\">\n",
       "      <th></th>\n",
       "      <th>State</th>\n",
       "      <th>Started on</th>\n",
       "      <th>Completed</th>\n",
       "      <th>Time taken</th>\n",
       "      <th>Grade/15.00</th>\n",
       "      <th>Q. 1 /1.00</th>\n",
       "      <th>Q. 2 /1.00</th>\n",
       "      <th>Q. 3 /1.00</th>\n",
       "      <th>Q. 4 /1.00</th>\n",
       "      <th>Q. 5 /1.00</th>\n",
       "      <th>Q. 6 /1.00</th>\n",
       "      <th>Q. 7 /1.00</th>\n",
       "      <th>Q. 8 /1.00</th>\n",
       "      <th>Q. 9 /1.00</th>\n",
       "      <th>Q. 10 /1.00</th>\n",
       "      <th>Q. 11 /1.00</th>\n",
       "      <th>Q. 12 /1.00</th>\n",
       "      <th>Q. 13 /1.00</th>\n",
       "      <th>Q. 14 /1.00</th>\n",
       "      <th>Q. 15 /1.00</th>\n",
       "    </tr>\n",
       "  </thead>\n",
       "  <tbody>\n",
       "    <tr>\n",
       "      <th>0</th>\n",
       "      <td>Finished</td>\n",
       "      <td>2020-10-02 19:00:00</td>\n",
       "      <td>2020-10-02 19:49:00</td>\n",
       "      <td>49.100000</td>\n",
       "      <td>12.75</td>\n",
       "      <td>1.0</td>\n",
       "      <td>1.0</td>\n",
       "      <td>1.0</td>\n",
       "      <td>1.0</td>\n",
       "      <td>1.0</td>\n",
       "      <td>1.0</td>\n",
       "      <td>0.75</td>\n",
       "      <td>0.0</td>\n",
       "      <td>1.0</td>\n",
       "      <td>1.0</td>\n",
       "      <td>1.0</td>\n",
       "      <td>1.0</td>\n",
       "      <td>0.0</td>\n",
       "      <td>1.0</td>\n",
       "      <td>1.0</td>\n",
       "    </tr>\n",
       "    <tr>\n",
       "      <th>1</th>\n",
       "      <td>Finished</td>\n",
       "      <td>2020-10-02 19:00:00</td>\n",
       "      <td>2020-10-02 19:40:00</td>\n",
       "      <td>40.816667</td>\n",
       "      <td>13.00</td>\n",
       "      <td>1.0</td>\n",
       "      <td>1.0</td>\n",
       "      <td>0.0</td>\n",
       "      <td>1.0</td>\n",
       "      <td>1.0</td>\n",
       "      <td>1.0</td>\n",
       "      <td>1.00</td>\n",
       "      <td>1.0</td>\n",
       "      <td>1.0</td>\n",
       "      <td>1.0</td>\n",
       "      <td>1.0</td>\n",
       "      <td>1.0</td>\n",
       "      <td>1.0</td>\n",
       "      <td>0.0</td>\n",
       "      <td>1.0</td>\n",
       "    </tr>\n",
       "  </tbody>\n",
       "</table>\n",
       "</div>"
      ],
      "text/plain": [
       "      State          Started on           Completed  Time taken  Grade/15.00  \\\n",
       "0  Finished 2020-10-02 19:00:00 2020-10-02 19:49:00   49.100000        12.75   \n",
       "1  Finished 2020-10-02 19:00:00 2020-10-02 19:40:00   40.816667        13.00   \n",
       "\n",
       "   Q. 1 /1.00  Q. 2 /1.00  Q. 3 /1.00  Q. 4 /1.00  Q. 5 /1.00  Q. 6 /1.00  \\\n",
       "0         1.0         1.0         1.0         1.0         1.0         1.0   \n",
       "1         1.0         1.0         0.0         1.0         1.0         1.0   \n",
       "\n",
       "   Q. 7 /1.00  Q. 8 /1.00  Q. 9 /1.00  Q. 10 /1.00  Q. 11 /1.00  Q. 12 /1.00  \\\n",
       "0        0.75         0.0         1.0          1.0          1.0          1.0   \n",
       "1        1.00         1.0         1.0          1.0          1.0          1.0   \n",
       "\n",
       "   Q. 13 /1.00  Q. 14 /1.00  Q. 15 /1.00  \n",
       "0          0.0          1.0          1.0  \n",
       "1          1.0          0.0          1.0  "
      ]
     },
     "execution_count": 21,
     "metadata": {},
     "output_type": "execute_result"
    }
   ],
   "source": [
    "quiz_df.head(2)"
   ]
  },
  {
   "cell_type": "code",
   "execution_count": 22,
   "metadata": {},
   "outputs": [
    {
     "data": {
      "text/html": [
       "<div>\n",
       "<style scoped>\n",
       "    .dataframe tbody tr th:only-of-type {\n",
       "        vertical-align: middle;\n",
       "    }\n",
       "\n",
       "    .dataframe tbody tr th {\n",
       "        vertical-align: top;\n",
       "    }\n",
       "\n",
       "    .dataframe thead th {\n",
       "        text-align: right;\n",
       "    }\n",
       "</style>\n",
       "<table border=\"1\" class=\"dataframe\">\n",
       "  <thead>\n",
       "    <tr style=\"text-align: right;\">\n",
       "      <th></th>\n",
       "      <th>Time taken</th>\n",
       "      <th>Grade/15.00</th>\n",
       "      <th>Q. 1 /1.00</th>\n",
       "      <th>Q. 2 /1.00</th>\n",
       "      <th>Q. 3 /1.00</th>\n",
       "      <th>Q. 4 /1.00</th>\n",
       "      <th>Q. 5 /1.00</th>\n",
       "      <th>Q. 6 /1.00</th>\n",
       "      <th>Q. 7 /1.00</th>\n",
       "      <th>Q. 8 /1.00</th>\n",
       "      <th>Q. 9 /1.00</th>\n",
       "      <th>Q. 10 /1.00</th>\n",
       "      <th>Q. 11 /1.00</th>\n",
       "      <th>Q. 12 /1.00</th>\n",
       "      <th>Q. 13 /1.00</th>\n",
       "      <th>Q. 14 /1.00</th>\n",
       "      <th>Q. 15 /1.00</th>\n",
       "    </tr>\n",
       "  </thead>\n",
       "  <tbody>\n",
       "    <tr>\n",
       "      <th>count</th>\n",
       "      <td>97.000000</td>\n",
       "      <td>96.000000</td>\n",
       "      <td>96.000000</td>\n",
       "      <td>96.000000</td>\n",
       "      <td>96.000000</td>\n",
       "      <td>96.000000</td>\n",
       "      <td>96.000000</td>\n",
       "      <td>96.000000</td>\n",
       "      <td>96.000000</td>\n",
       "      <td>96.000000</td>\n",
       "      <td>96.000000</td>\n",
       "      <td>96.000000</td>\n",
       "      <td>96.000000</td>\n",
       "      <td>96.000000</td>\n",
       "      <td>96.000000</td>\n",
       "      <td>96.000000</td>\n",
       "      <td>96.000000</td>\n",
       "    </tr>\n",
       "    <tr>\n",
       "      <th>mean</th>\n",
       "      <td>38.095704</td>\n",
       "      <td>11.875521</td>\n",
       "      <td>0.833333</td>\n",
       "      <td>0.885417</td>\n",
       "      <td>0.572917</td>\n",
       "      <td>0.779167</td>\n",
       "      <td>0.947917</td>\n",
       "      <td>0.468750</td>\n",
       "      <td>0.721354</td>\n",
       "      <td>0.520833</td>\n",
       "      <td>0.947917</td>\n",
       "      <td>0.854167</td>\n",
       "      <td>0.864583</td>\n",
       "      <td>0.979167</td>\n",
       "      <td>0.906250</td>\n",
       "      <td>0.729167</td>\n",
       "      <td>0.864583</td>\n",
       "    </tr>\n",
       "    <tr>\n",
       "      <th>std</th>\n",
       "      <td>24.339461</td>\n",
       "      <td>2.466139</td>\n",
       "      <td>0.374634</td>\n",
       "      <td>0.320190</td>\n",
       "      <td>0.497251</td>\n",
       "      <td>0.299444</td>\n",
       "      <td>0.223361</td>\n",
       "      <td>0.501642</td>\n",
       "      <td>0.341956</td>\n",
       "      <td>0.502188</td>\n",
       "      <td>0.223361</td>\n",
       "      <td>0.354792</td>\n",
       "      <td>0.343964</td>\n",
       "      <td>0.143576</td>\n",
       "      <td>0.293011</td>\n",
       "      <td>0.446723</td>\n",
       "      <td>0.343964</td>\n",
       "    </tr>\n",
       "    <tr>\n",
       "      <th>min</th>\n",
       "      <td>0.000000</td>\n",
       "      <td>4.150000</td>\n",
       "      <td>0.000000</td>\n",
       "      <td>0.000000</td>\n",
       "      <td>0.000000</td>\n",
       "      <td>0.000000</td>\n",
       "      <td>0.000000</td>\n",
       "      <td>0.000000</td>\n",
       "      <td>0.000000</td>\n",
       "      <td>0.000000</td>\n",
       "      <td>0.000000</td>\n",
       "      <td>0.000000</td>\n",
       "      <td>0.000000</td>\n",
       "      <td>0.000000</td>\n",
       "      <td>0.000000</td>\n",
       "      <td>0.000000</td>\n",
       "      <td>0.000000</td>\n",
       "    </tr>\n",
       "    <tr>\n",
       "      <th>25%</th>\n",
       "      <td>23.683333</td>\n",
       "      <td>10.487500</td>\n",
       "      <td>1.000000</td>\n",
       "      <td>1.000000</td>\n",
       "      <td>0.000000</td>\n",
       "      <td>0.600000</td>\n",
       "      <td>1.000000</td>\n",
       "      <td>0.000000</td>\n",
       "      <td>0.500000</td>\n",
       "      <td>0.000000</td>\n",
       "      <td>1.000000</td>\n",
       "      <td>1.000000</td>\n",
       "      <td>1.000000</td>\n",
       "      <td>1.000000</td>\n",
       "      <td>1.000000</td>\n",
       "      <td>0.000000</td>\n",
       "      <td>1.000000</td>\n",
       "    </tr>\n",
       "    <tr>\n",
       "      <th>50%</th>\n",
       "      <td>35.500000</td>\n",
       "      <td>12.000000</td>\n",
       "      <td>1.000000</td>\n",
       "      <td>1.000000</td>\n",
       "      <td>1.000000</td>\n",
       "      <td>0.800000</td>\n",
       "      <td>1.000000</td>\n",
       "      <td>0.000000</td>\n",
       "      <td>0.750000</td>\n",
       "      <td>1.000000</td>\n",
       "      <td>1.000000</td>\n",
       "      <td>1.000000</td>\n",
       "      <td>1.000000</td>\n",
       "      <td>1.000000</td>\n",
       "      <td>1.000000</td>\n",
       "      <td>1.000000</td>\n",
       "      <td>1.000000</td>\n",
       "    </tr>\n",
       "    <tr>\n",
       "      <th>75%</th>\n",
       "      <td>45.266667</td>\n",
       "      <td>14.000000</td>\n",
       "      <td>1.000000</td>\n",
       "      <td>1.000000</td>\n",
       "      <td>1.000000</td>\n",
       "      <td>1.000000</td>\n",
       "      <td>1.000000</td>\n",
       "      <td>1.000000</td>\n",
       "      <td>1.000000</td>\n",
       "      <td>1.000000</td>\n",
       "      <td>1.000000</td>\n",
       "      <td>1.000000</td>\n",
       "      <td>1.000000</td>\n",
       "      <td>1.000000</td>\n",
       "      <td>1.000000</td>\n",
       "      <td>1.000000</td>\n",
       "      <td>1.000000</td>\n",
       "    </tr>\n",
       "    <tr>\n",
       "      <th>max</th>\n",
       "      <td>146.000000</td>\n",
       "      <td>15.000000</td>\n",
       "      <td>1.000000</td>\n",
       "      <td>1.000000</td>\n",
       "      <td>1.000000</td>\n",
       "      <td>1.000000</td>\n",
       "      <td>1.000000</td>\n",
       "      <td>1.000000</td>\n",
       "      <td>1.000000</td>\n",
       "      <td>1.000000</td>\n",
       "      <td>1.000000</td>\n",
       "      <td>1.000000</td>\n",
       "      <td>1.000000</td>\n",
       "      <td>1.000000</td>\n",
       "      <td>1.000000</td>\n",
       "      <td>1.000000</td>\n",
       "      <td>1.000000</td>\n",
       "    </tr>\n",
       "  </tbody>\n",
       "</table>\n",
       "</div>"
      ],
      "text/plain": [
       "       Time taken  Grade/15.00  Q. 1 /1.00  Q. 2 /1.00  Q. 3 /1.00  \\\n",
       "count   97.000000    96.000000   96.000000   96.000000   96.000000   \n",
       "mean    38.095704    11.875521    0.833333    0.885417    0.572917   \n",
       "std     24.339461     2.466139    0.374634    0.320190    0.497251   \n",
       "min      0.000000     4.150000    0.000000    0.000000    0.000000   \n",
       "25%     23.683333    10.487500    1.000000    1.000000    0.000000   \n",
       "50%     35.500000    12.000000    1.000000    1.000000    1.000000   \n",
       "75%     45.266667    14.000000    1.000000    1.000000    1.000000   \n",
       "max    146.000000    15.000000    1.000000    1.000000    1.000000   \n",
       "\n",
       "       Q. 4 /1.00  Q. 5 /1.00  Q. 6 /1.00  Q. 7 /1.00  Q. 8 /1.00  Q. 9 /1.00  \\\n",
       "count   96.000000   96.000000   96.000000   96.000000   96.000000   96.000000   \n",
       "mean     0.779167    0.947917    0.468750    0.721354    0.520833    0.947917   \n",
       "std      0.299444    0.223361    0.501642    0.341956    0.502188    0.223361   \n",
       "min      0.000000    0.000000    0.000000    0.000000    0.000000    0.000000   \n",
       "25%      0.600000    1.000000    0.000000    0.500000    0.000000    1.000000   \n",
       "50%      0.800000    1.000000    0.000000    0.750000    1.000000    1.000000   \n",
       "75%      1.000000    1.000000    1.000000    1.000000    1.000000    1.000000   \n",
       "max      1.000000    1.000000    1.000000    1.000000    1.000000    1.000000   \n",
       "\n",
       "       Q. 10 /1.00  Q. 11 /1.00  Q. 12 /1.00  Q. 13 /1.00  Q. 14 /1.00  \\\n",
       "count    96.000000    96.000000    96.000000    96.000000    96.000000   \n",
       "mean      0.854167     0.864583     0.979167     0.906250     0.729167   \n",
       "std       0.354792     0.343964     0.143576     0.293011     0.446723   \n",
       "min       0.000000     0.000000     0.000000     0.000000     0.000000   \n",
       "25%       1.000000     1.000000     1.000000     1.000000     0.000000   \n",
       "50%       1.000000     1.000000     1.000000     1.000000     1.000000   \n",
       "75%       1.000000     1.000000     1.000000     1.000000     1.000000   \n",
       "max       1.000000     1.000000     1.000000     1.000000     1.000000   \n",
       "\n",
       "       Q. 15 /1.00  \n",
       "count    96.000000  \n",
       "mean      0.864583  \n",
       "std       0.343964  \n",
       "min       0.000000  \n",
       "25%       1.000000  \n",
       "50%       1.000000  \n",
       "75%       1.000000  \n",
       "max       1.000000  "
      ]
     },
     "execution_count": 22,
     "metadata": {},
     "output_type": "execute_result"
    }
   ],
   "source": [
    "quiz_df.describe()"
   ]
  },
  {
   "cell_type": "markdown",
   "metadata": {},
   "source": [
    "Phương thức describe mô tả các cột theo các đại lượng thống kê đã được chỉ định sẵn. Mặc dù ta có thay thử thay đổi các tham số của describe, nhưng nhìn chung những gì có thể làm được vẫn khá bị giới hạn trong khuôn mẫu, không thể tùy biến theo ý của người dùng.\n",
    "\n",
    "Để có thể mô tả các cột một cách tùy ý, thay vì dùng describe thì ta sẽ làm như sau."
   ]
  },
  {
   "cell_type": "code",
   "execution_count": 23,
   "metadata": {},
   "outputs": [
    {
     "data": {
      "text/html": [
       "<div>\n",
       "<style scoped>\n",
       "    .dataframe tbody tr th:only-of-type {\n",
       "        vertical-align: middle;\n",
       "    }\n",
       "\n",
       "    .dataframe tbody tr th {\n",
       "        vertical-align: top;\n",
       "    }\n",
       "\n",
       "    .dataframe thead th {\n",
       "        text-align: right;\n",
       "    }\n",
       "</style>\n",
       "<table border=\"1\" class=\"dataframe\">\n",
       "  <thead>\n",
       "    <tr style=\"text-align: right;\">\n",
       "      <th></th>\n",
       "      <th>Started on</th>\n",
       "      <th>Completed</th>\n",
       "      <th>Time taken</th>\n",
       "      <th>Grade/15.00</th>\n",
       "      <th>Q. 1 /1.00</th>\n",
       "      <th>Q. 2 /1.00</th>\n",
       "      <th>Q. 3 /1.00</th>\n",
       "      <th>Q. 4 /1.00</th>\n",
       "      <th>Q. 5 /1.00</th>\n",
       "      <th>Q. 6 /1.00</th>\n",
       "      <th>Q. 7 /1.00</th>\n",
       "      <th>Q. 8 /1.00</th>\n",
       "      <th>Q. 9 /1.00</th>\n",
       "      <th>Q. 10 /1.00</th>\n",
       "      <th>Q. 11 /1.00</th>\n",
       "      <th>Q. 12 /1.00</th>\n",
       "      <th>Q. 13 /1.00</th>\n",
       "      <th>Q. 14 /1.00</th>\n",
       "      <th>Q. 15 /1.00</th>\n",
       "    </tr>\n",
       "  </thead>\n",
       "  <tbody>\n",
       "    <tr>\n",
       "      <th>missing_ratio</th>\n",
       "      <td>0</td>\n",
       "      <td>1.03093</td>\n",
       "      <td>0.000000</td>\n",
       "      <td>1.030928</td>\n",
       "      <td>1.030928</td>\n",
       "      <td>1.030928</td>\n",
       "      <td>1.030928</td>\n",
       "      <td>1.030928</td>\n",
       "      <td>1.030928</td>\n",
       "      <td>1.030928</td>\n",
       "      <td>1.030928</td>\n",
       "      <td>1.030928</td>\n",
       "      <td>1.030928</td>\n",
       "      <td>1.030928</td>\n",
       "      <td>1.030928</td>\n",
       "      <td>1.030928</td>\n",
       "      <td>1.030928</td>\n",
       "      <td>1.030928</td>\n",
       "      <td>1.030928</td>\n",
       "    </tr>\n",
       "    <tr>\n",
       "      <th>min</th>\n",
       "      <td>2020-10-02 19:00:00</td>\n",
       "      <td>2020-10-02 19:19:00</td>\n",
       "      <td>0.000000</td>\n",
       "      <td>4.150000</td>\n",
       "      <td>0.000000</td>\n",
       "      <td>0.000000</td>\n",
       "      <td>0.000000</td>\n",
       "      <td>0.000000</td>\n",
       "      <td>0.000000</td>\n",
       "      <td>0.000000</td>\n",
       "      <td>0.000000</td>\n",
       "      <td>0.000000</td>\n",
       "      <td>0.000000</td>\n",
       "      <td>0.000000</td>\n",
       "      <td>0.000000</td>\n",
       "      <td>0.000000</td>\n",
       "      <td>0.000000</td>\n",
       "      <td>0.000000</td>\n",
       "      <td>0.000000</td>\n",
       "    </tr>\n",
       "    <tr>\n",
       "      <th>lower_quartile</th>\n",
       "      <td>2020-10-02 19:30:00</td>\n",
       "      <td>2020-10-02 20:05:45</td>\n",
       "      <td>23.683333</td>\n",
       "      <td>10.487500</td>\n",
       "      <td>1.000000</td>\n",
       "      <td>1.000000</td>\n",
       "      <td>0.000000</td>\n",
       "      <td>0.600000</td>\n",
       "      <td>1.000000</td>\n",
       "      <td>0.000000</td>\n",
       "      <td>0.500000</td>\n",
       "      <td>0.000000</td>\n",
       "      <td>1.000000</td>\n",
       "      <td>1.000000</td>\n",
       "      <td>1.000000</td>\n",
       "      <td>1.000000</td>\n",
       "      <td>1.000000</td>\n",
       "      <td>0.000000</td>\n",
       "      <td>1.000000</td>\n",
       "    </tr>\n",
       "    <tr>\n",
       "      <th>median</th>\n",
       "      <td>2020-10-02 20:02:00</td>\n",
       "      <td>2020-10-02 20:52:00</td>\n",
       "      <td>35.500000</td>\n",
       "      <td>12.000000</td>\n",
       "      <td>1.000000</td>\n",
       "      <td>1.000000</td>\n",
       "      <td>1.000000</td>\n",
       "      <td>0.800000</td>\n",
       "      <td>1.000000</td>\n",
       "      <td>0.000000</td>\n",
       "      <td>0.750000</td>\n",
       "      <td>1.000000</td>\n",
       "      <td>1.000000</td>\n",
       "      <td>1.000000</td>\n",
       "      <td>1.000000</td>\n",
       "      <td>1.000000</td>\n",
       "      <td>1.000000</td>\n",
       "      <td>1.000000</td>\n",
       "      <td>1.000000</td>\n",
       "    </tr>\n",
       "    <tr>\n",
       "      <th>upper_quartile</th>\n",
       "      <td>2020-10-02 21:05:00</td>\n",
       "      <td>2020-10-02 21:52:00</td>\n",
       "      <td>45.266667</td>\n",
       "      <td>14.000000</td>\n",
       "      <td>1.000000</td>\n",
       "      <td>1.000000</td>\n",
       "      <td>1.000000</td>\n",
       "      <td>1.000000</td>\n",
       "      <td>1.000000</td>\n",
       "      <td>1.000000</td>\n",
       "      <td>1.000000</td>\n",
       "      <td>1.000000</td>\n",
       "      <td>1.000000</td>\n",
       "      <td>1.000000</td>\n",
       "      <td>1.000000</td>\n",
       "      <td>1.000000</td>\n",
       "      <td>1.000000</td>\n",
       "      <td>1.000000</td>\n",
       "      <td>1.000000</td>\n",
       "    </tr>\n",
       "    <tr>\n",
       "      <th>max</th>\n",
       "      <td>2020-10-02 22:53:00</td>\n",
       "      <td>2020-10-02 22:59:00</td>\n",
       "      <td>146.000000</td>\n",
       "      <td>15.000000</td>\n",
       "      <td>1.000000</td>\n",
       "      <td>1.000000</td>\n",
       "      <td>1.000000</td>\n",
       "      <td>1.000000</td>\n",
       "      <td>1.000000</td>\n",
       "      <td>1.000000</td>\n",
       "      <td>1.000000</td>\n",
       "      <td>1.000000</td>\n",
       "      <td>1.000000</td>\n",
       "      <td>1.000000</td>\n",
       "      <td>1.000000</td>\n",
       "      <td>1.000000</td>\n",
       "      <td>1.000000</td>\n",
       "      <td>1.000000</td>\n",
       "      <td>1.000000</td>\n",
       "    </tr>\n",
       "  </tbody>\n",
       "</table>\n",
       "</div>"
      ],
      "text/plain": [
       "                         Started on            Completed  Time taken  \\\n",
       "missing_ratio                     0              1.03093    0.000000   \n",
       "min             2020-10-02 19:00:00  2020-10-02 19:19:00    0.000000   \n",
       "lower_quartile  2020-10-02 19:30:00  2020-10-02 20:05:45   23.683333   \n",
       "median          2020-10-02 20:02:00  2020-10-02 20:52:00   35.500000   \n",
       "upper_quartile  2020-10-02 21:05:00  2020-10-02 21:52:00   45.266667   \n",
       "max             2020-10-02 22:53:00  2020-10-02 22:59:00  146.000000   \n",
       "\n",
       "                Grade/15.00  Q. 1 /1.00  Q. 2 /1.00  Q. 3 /1.00  Q. 4 /1.00  \\\n",
       "missing_ratio      1.030928    1.030928    1.030928    1.030928    1.030928   \n",
       "min                4.150000    0.000000    0.000000    0.000000    0.000000   \n",
       "lower_quartile    10.487500    1.000000    1.000000    0.000000    0.600000   \n",
       "median            12.000000    1.000000    1.000000    1.000000    0.800000   \n",
       "upper_quartile    14.000000    1.000000    1.000000    1.000000    1.000000   \n",
       "max               15.000000    1.000000    1.000000    1.000000    1.000000   \n",
       "\n",
       "                Q. 5 /1.00  Q. 6 /1.00  Q. 7 /1.00  Q. 8 /1.00  Q. 9 /1.00  \\\n",
       "missing_ratio     1.030928    1.030928    1.030928    1.030928    1.030928   \n",
       "min               0.000000    0.000000    0.000000    0.000000    0.000000   \n",
       "lower_quartile    1.000000    0.000000    0.500000    0.000000    1.000000   \n",
       "median            1.000000    0.000000    0.750000    1.000000    1.000000   \n",
       "upper_quartile    1.000000    1.000000    1.000000    1.000000    1.000000   \n",
       "max               1.000000    1.000000    1.000000    1.000000    1.000000   \n",
       "\n",
       "                Q. 10 /1.00  Q. 11 /1.00  Q. 12 /1.00  Q. 13 /1.00  \\\n",
       "missing_ratio      1.030928     1.030928     1.030928     1.030928   \n",
       "min                0.000000     0.000000     0.000000     0.000000   \n",
       "lower_quartile     1.000000     1.000000     1.000000     1.000000   \n",
       "median             1.000000     1.000000     1.000000     1.000000   \n",
       "upper_quartile     1.000000     1.000000     1.000000     1.000000   \n",
       "max                1.000000     1.000000     1.000000     1.000000   \n",
       "\n",
       "                Q. 14 /1.00  Q. 15 /1.00  \n",
       "missing_ratio      1.030928     1.030928  \n",
       "min                0.000000     0.000000  \n",
       "lower_quartile     0.000000     1.000000  \n",
       "median             1.000000     1.000000  \n",
       "upper_quartile     1.000000     1.000000  \n",
       "max                1.000000     1.000000  "
      ]
     },
     "execution_count": 23,
     "metadata": {},
     "output_type": "execute_result"
    }
   ],
   "source": [
    "df = quiz_df.select_dtypes(exclude='object')\n",
    "def missing_ratio(s):\n",
    "    return s.isna().mean() * 100\n",
    "def median(df):\n",
    "    return df.quantile(0.5)\n",
    "def lower_quartile(df):\n",
    "    return df.quantile(0.25)\n",
    "def upper_quartile(df):\n",
    "    return df.quantile(0.75)\n",
    "# Trong phương thức agg, bạn có thể truyền vào một list các\n",
    "# hàm (có thể là các hàm có sẵn hoặc các hàm tự định nghĩa)\n",
    "df.agg([missing_ratio, min, lower_quartile, median, upper_quartile, max])"
   ]
  },
  {
   "cell_type": "markdown",
   "metadata": {},
   "source": [
    "Nếu chưa đủ: vẽ histogram. Dưới đây minh họa cách vẽ histogram cho cột \"Grade/15.00\"."
   ]
  },
  {
   "cell_type": "code",
   "execution_count": 24,
   "metadata": {},
   "outputs": [],
   "source": [
    "# Các câu lệnh vẽ hình của Pandas sẽ gọi đến các\n",
    "# câu lệnh vẽ hình của thư viện matplotlib\n",
    "# Để tinh chỉnh các hình vẽ sau khi gọi các câu lệnh vẽ hình\n",
    "# của Pandas thì ta có thể sẽ cần dùng thêm các câu lệnh của\n",
    "# thư viện matplotlib\n",
    "import matplotlib.pyplot as plt"
   ]
  },
  {
   "cell_type": "code",
   "execution_count": 25,
   "metadata": {},
   "outputs": [],
   "source": [
    "# Đây là câu lệnh của Jupyter Notebook, để đảm bảo việc vẽ hình\n",
    "# trong Notebook diễn ra suôn sẻ (chỉ cần chạy câu lệnh này 1\n",
    "# lần là sẽ có hiệu ứng cho cả Notebook)\n",
    "# Nếu không có câu lệnh này thì tùy thuộc vào hệ điều hành và\n",
    "# phiên bản của Pandas mà có thể xảy ra các vấn đề như: hình vẽ\n",
    "# pop up ra ở một cửa sổ riêng, không vẽ được, ...\n",
    "%matplotlib inline"
   ]
  },
  {
   "cell_type": "code",
   "execution_count": 26,
   "metadata": {},
   "outputs": [
    {
     "data": {
      "image/png": "[encoded data removed]",
      "text/plain": [
       "<Figure size 432x288 with 1 Axes>"
      ]
     },
     "metadata": {
      "needs_background": "light"
     },
     "output_type": "display_data"
    }
   ],
   "source": [
    "# Tham số bins có thể là: \n",
    "# - Một con số: Pandas sẽ hiểu đây là số lượng bin, và sẽ tự\n",
    "#   động chia đều từ min đến max chừng đó bin\n",
    "# - List các con số: ví dụ với list [0, 5, 10, 15] thì Pandas\n",
    "#   sẽ chia làm 4 bin: [0, 5), [5, 10), [10, 15]\n",
    "#   (để ý: bin cuối bao gồm cả đầu bên phải)\n",
    "quiz_df['Grade/15.00'].plot.hist(bins=range(0, 17, 1), edgecolor='black')\n",
    "plt.xlabel('Điểm') \n",
    "plt.ylabel('Số SV');"
   ]
  },
  {
   "cell_type": "markdown",
   "metadata": {},
   "source": [
    "### Với mỗi cột có kiểu dữ liệu không phải dạng số (ở đây chủ yếu ta ám chỉ dạng categorical), các giá trị được phân bố như thế nào?\n",
    "\n",
    "- Số-lần/tỉ-lệ các giá trị thiếu\n",
    "- Số lượng các giá trị khác nhau & số-lần/tỉ-lệ xuất hiện của mỗi giá trị\n",
    "- Nếu chưa đủ: vẽ bar chart"
   ]
  },
  {
   "cell_type": "code",
   "execution_count": 27,
   "metadata": {},
   "outputs": [
    {
     "data": {
      "text/html": [
       "<div>\n",
       "<style scoped>\n",
       "    .dataframe tbody tr th:only-of-type {\n",
       "        vertical-align: middle;\n",
       "    }\n",
       "\n",
       "    .dataframe tbody tr th {\n",
       "        vertical-align: top;\n",
       "    }\n",
       "\n",
       "    .dataframe thead th {\n",
       "        text-align: right;\n",
       "    }\n",
       "</style>\n",
       "<table border=\"1\" class=\"dataframe\">\n",
       "  <thead>\n",
       "    <tr style=\"text-align: right;\">\n",
       "      <th></th>\n",
       "      <th>State</th>\n",
       "    </tr>\n",
       "  </thead>\n",
       "  <tbody>\n",
       "    <tr>\n",
       "      <th>missing_ratio</th>\n",
       "      <td>0</td>\n",
       "    </tr>\n",
       "    <tr>\n",
       "      <th>nunique</th>\n",
       "      <td>2</td>\n",
       "    </tr>\n",
       "    <tr>\n",
       "      <th>value_counts</th>\n",
       "      <td>{'Finished': 96, 'Never submitted': 1}</td>\n",
       "    </tr>\n",
       "  </tbody>\n",
       "</table>\n",
       "</div>"
      ],
      "text/plain": [
       "                                                State\n",
       "missing_ratio                                       0\n",
       "nunique                                             2\n",
       "value_counts   {'Finished': 96, 'Never submitted': 1}"
      ]
     },
     "execution_count": 27,
     "metadata": {},
     "output_type": "execute_result"
    }
   ],
   "source": [
    "df = quiz_df.select_dtypes(include='object')\n",
    "def value_counts(col):\n",
    "    return dict(col.value_counts())\n",
    "df = df.agg([missing_ratio, pd.Series.nunique, value_counts])\n",
    "df"
   ]
  },
  {
   "cell_type": "code",
   "execution_count": 28,
   "metadata": {},
   "outputs": [
    {
     "data": {
      "image/png": "[encoded data removed]",
      "text/plain": [
       "<Figure size 432x288 with 1 Axes>"
      ]
     },
     "metadata": {
      "needs_background": "light"
     },
     "output_type": "display_data"
    }
   ],
   "source": [
    "# Minh họa cách vẽ bar chart với cột \"State\"\n",
    "quiz_df.State.value_counts().plot.barh()\n",
    "plt.xlabel('Số lượng SV');"
   ]
  },
  {
   "cell_type": "markdown",
   "metadata": {},
   "source": [
    "## Đặt câu hỏi "
   ]
  },
  {
   "cell_type": "markdown",
   "metadata": {},
   "source": [
    "Đến đây, ta đã hiểu hơn về dữ liệu. Ta hãy xem thử có các câu hỏi nào có được trả lời bằng dữ liệu này.\n",
    "\n",
    "**Một câu hỏi có thể có là:** nhóm các bạn top 25% (có điểm $\\in$ [upper quartile, max]) có đặc điểm gì so với 3 nhóm còn lại ([min, lower quartile), [lower quartile, median), [median, upper quartile))?"
   ]
  },
  {
   "cell_type": "markdown",
   "metadata": {},
   "source": [
    "## Tiền xử lý"
   ]
  },
  {
   "cell_type": "markdown",
   "metadata": {},
   "source": [
    "Trước khi qua bước phân tích để trả lời cho câu hỏi, ta có cần thực hiện thêm các thao tác tiền xử lý nào không? \n",
    "\n",
    "Ta có thể tiền xử lý bằng cách thêm cột \"GradeRank\" vào `quiz_df`, trong đó:\n",
    "- Các bạn có điểm $\\in$ [upper quartile, max] có rank 1\n",
    "- Các bạn có điểm $\\in$ [median, upper quartile) có rank 2\n",
    "- Các bạn có điểm $\\in$ [lower quartile, median) có rank 3\n",
    "- Các bạn có điểm $\\in$ [min, lower quartile) có rank 4\n",
    "\n",
    "Ở đây, mình thấy ranh giới giữa bước tiền xử và phân tích khá mờ nhạt. Bạn có thể coi thao tác tiền xử lý ở trên là thuộc bước phân tích cũng được."
   ]
  },
  {
   "cell_type": "code",
   "execution_count": 29,
   "metadata": {},
   "outputs": [
    {
     "data": {
      "text/plain": [
       "0.00     4.1500\n",
       "0.25    10.4875\n",
       "0.50    12.0000\n",
       "0.75    14.0000\n",
       "1.00    15.0000\n",
       "Name: Grade/15.00, dtype: float64"
      ]
     },
     "execution_count": 29,
     "metadata": {},
     "output_type": "execute_result"
    }
   ],
   "source": [
    "# Tính min, lower quartile, median, upper quartile, max\n",
    "bins = quiz_df['Grade/15.00'].quantile([0, 0.25, 0.5, 0.75, 1])\n",
    "bins"
   ]
  },
  {
   "cell_type": "code",
   "execution_count": 30,
   "metadata": {},
   "outputs": [
    {
     "data": {
      "text/plain": [
       "0       [12.0, 14.0)\n",
       "1       [12.0, 14.0)\n",
       "2     [10.488, 12.0)\n",
       "3     [4.15, 10.488)\n",
       "4     [4.15, 10.488)\n",
       "           ...      \n",
       "92      [14.0, 15.0)\n",
       "93      [12.0, 14.0)\n",
       "94      [12.0, 14.0)\n",
       "95    [4.15, 10.488)\n",
       "96      [12.0, 14.0)\n",
       "Name: Grade/15.00, Length: 97, dtype: category\n",
       "Categories (4, interval[float64]): [[4.15, 10.488) < [10.488, 12.0) < [12.0, 14.0) < [14.0, 15.0)]"
      ]
     },
     "execution_count": 30,
     "metadata": {},
     "output_type": "execute_result"
    }
   ],
   "source": [
    "# Rời rạc hóa cột \"Grade/15.00\" dựa vào biến bins đã tính\n",
    "grade_rank = pd.cut(quiz_df['Grade/15.00'], bins, right=False)\n",
    "grade_rank"
   ]
  },
  {
   "cell_type": "markdown",
   "metadata": {},
   "source": [
    "Trong hàm `pd.cut` ở trên, ta có thể chỉnh tham số `right=False` để mỗi bin bao gồm đầu bên trái nhưng không bao gồm đầu bên phải. Tuy nhiên, ở bin cuối ta muốn bao gồm luôn cả đầu bên phải (giá trị 15). Một cách là ta sẽ tăng giá trị của phần tử cuối trong biến `bins` lên một ít (ví dụ, 15.01)."
   ]
  },
  {
   "cell_type": "code",
   "execution_count": 31,
   "metadata": {},
   "outputs": [
    {
     "data": {
      "text/plain": [
       "0.00     4.1500\n",
       "0.25    10.4875\n",
       "0.50    12.0000\n",
       "0.75    14.0000\n",
       "1.00    15.1000\n",
       "Name: Grade/15.00, dtype: float64"
      ]
     },
     "execution_count": 31,
     "metadata": {},
     "output_type": "execute_result"
    }
   ],
   "source": [
    "# Tính min, lower quartile, median, upper quartile, max\n",
    "bins = quiz_df['Grade/15.00'].quantile([0, 0.25, 0.5, 0.75, 1])\n",
    "bins.iloc[-1] += 0.1\n",
    "bins"
   ]
  },
  {
   "cell_type": "code",
   "execution_count": 32,
   "metadata": {},
   "outputs": [
    {
     "data": {
      "text/plain": [
       "0       [12.0, 14.0)\n",
       "1       [12.0, 14.0)\n",
       "2     [10.488, 12.0)\n",
       "3     [4.15, 10.488)\n",
       "4     [4.15, 10.488)\n",
       "           ...      \n",
       "92      [14.0, 15.1)\n",
       "93      [12.0, 14.0)\n",
       "94      [12.0, 14.0)\n",
       "95    [4.15, 10.488)\n",
       "96      [12.0, 14.0)\n",
       "Name: Grade/15.00, Length: 97, dtype: category\n",
       "Categories (4, interval[float64]): [[4.15, 10.488) < [10.488, 12.0) < [12.0, 14.0) < [14.0, 15.1)]"
      ]
     },
     "execution_count": 32,
     "metadata": {},
     "output_type": "execute_result"
    }
   ],
   "source": [
    "# Rời rạc hóa cột \"Grade/15.00\" dựa vào biến bins đã tính\n",
    "grade_rank = pd.cut(quiz_df['Grade/15.00'], bins, right=False)\n",
    "grade_rank"
   ]
  },
  {
   "cell_type": "code",
   "execution_count": 33,
   "metadata": {},
   "outputs": [
    {
     "data": {
      "text/plain": [
       "0     2\n",
       "1     2\n",
       "2     3\n",
       "3     4\n",
       "4     4\n",
       "     ..\n",
       "92    1\n",
       "93    2\n",
       "94    2\n",
       "95    4\n",
       "96    2\n",
       "Name: Grade/15.00, Length: 97, dtype: category\n",
       "Categories (4, int64): [4 < 3 < 2 < 1]"
      ]
     },
     "execution_count": 33,
     "metadata": {},
     "output_type": "execute_result"
    }
   ],
   "source": [
    "# Rời rạc hóa một cột số (Series) dựa vào biến bins đã tính\n",
    "# Chỉnh tham số label trong hàm pd.cut để ra kết quả như ý tưởng\n",
    "# đã vạch ra ban đầu\n",
    "grade_rank = pd.cut(quiz_df['Grade/15.00'], bins, right=False,\n",
    "                   labels=[4, 3, 2, 1])\n",
    "grade_rank"
   ]
  },
  {
   "cell_type": "code",
   "execution_count": 34,
   "metadata": {},
   "outputs": [
    {
     "data": {
      "text/html": [
       "<div>\n",
       "<style scoped>\n",
       "    .dataframe tbody tr th:only-of-type {\n",
       "        vertical-align: middle;\n",
       "    }\n",
       "\n",
       "    .dataframe tbody tr th {\n",
       "        vertical-align: top;\n",
       "    }\n",
       "\n",
       "    .dataframe thead th {\n",
       "        text-align: right;\n",
       "    }\n",
       "</style>\n",
       "<table border=\"1\" class=\"dataframe\">\n",
       "  <thead>\n",
       "    <tr style=\"text-align: right;\">\n",
       "      <th></th>\n",
       "      <th>State</th>\n",
       "      <th>Started on</th>\n",
       "      <th>Completed</th>\n",
       "      <th>Time taken</th>\n",
       "      <th>Grade/15.00</th>\n",
       "      <th>Q. 1 /1.00</th>\n",
       "      <th>Q. 2 /1.00</th>\n",
       "      <th>Q. 3 /1.00</th>\n",
       "      <th>Q. 4 /1.00</th>\n",
       "      <th>Q. 5 /1.00</th>\n",
       "      <th>...</th>\n",
       "      <th>Q. 7 /1.00</th>\n",
       "      <th>Q. 8 /1.00</th>\n",
       "      <th>Q. 9 /1.00</th>\n",
       "      <th>Q. 10 /1.00</th>\n",
       "      <th>Q. 11 /1.00</th>\n",
       "      <th>Q. 12 /1.00</th>\n",
       "      <th>Q. 13 /1.00</th>\n",
       "      <th>Q. 14 /1.00</th>\n",
       "      <th>Q. 15 /1.00</th>\n",
       "      <th>GradeRank</th>\n",
       "    </tr>\n",
       "  </thead>\n",
       "  <tbody>\n",
       "    <tr>\n",
       "      <th>0</th>\n",
       "      <td>Finished</td>\n",
       "      <td>2020-10-02 19:00:00</td>\n",
       "      <td>2020-10-02 19:49:00</td>\n",
       "      <td>49.100000</td>\n",
       "      <td>12.75</td>\n",
       "      <td>1.0</td>\n",
       "      <td>1.0</td>\n",
       "      <td>1.0</td>\n",
       "      <td>1.0</td>\n",
       "      <td>1.0</td>\n",
       "      <td>...</td>\n",
       "      <td>0.75</td>\n",
       "      <td>0.0</td>\n",
       "      <td>1.0</td>\n",
       "      <td>1.0</td>\n",
       "      <td>1.0</td>\n",
       "      <td>1.0</td>\n",
       "      <td>0.0</td>\n",
       "      <td>1.0</td>\n",
       "      <td>1.0</td>\n",
       "      <td>2</td>\n",
       "    </tr>\n",
       "    <tr>\n",
       "      <th>1</th>\n",
       "      <td>Finished</td>\n",
       "      <td>2020-10-02 19:00:00</td>\n",
       "      <td>2020-10-02 19:40:00</td>\n",
       "      <td>40.816667</td>\n",
       "      <td>13.00</td>\n",
       "      <td>1.0</td>\n",
       "      <td>1.0</td>\n",
       "      <td>0.0</td>\n",
       "      <td>1.0</td>\n",
       "      <td>1.0</td>\n",
       "      <td>...</td>\n",
       "      <td>1.00</td>\n",
       "      <td>1.0</td>\n",
       "      <td>1.0</td>\n",
       "      <td>1.0</td>\n",
       "      <td>1.0</td>\n",
       "      <td>1.0</td>\n",
       "      <td>1.0</td>\n",
       "      <td>0.0</td>\n",
       "      <td>1.0</td>\n",
       "      <td>2</td>\n",
       "    </tr>\n",
       "  </tbody>\n",
       "</table>\n",
       "<p>2 rows × 21 columns</p>\n",
       "</div>"
      ],
      "text/plain": [
       "      State          Started on           Completed  Time taken  Grade/15.00  \\\n",
       "0  Finished 2020-10-02 19:00:00 2020-10-02 19:49:00   49.100000        12.75   \n",
       "1  Finished 2020-10-02 19:00:00 2020-10-02 19:40:00   40.816667        13.00   \n",
       "\n",
       "   Q. 1 /1.00  Q. 2 /1.00  Q. 3 /1.00  Q. 4 /1.00  Q. 5 /1.00  ...  \\\n",
       "0         1.0         1.0         1.0         1.0         1.0  ...   \n",
       "1         1.0         1.0         0.0         1.0         1.0  ...   \n",
       "\n",
       "   Q. 7 /1.00  Q. 8 /1.00  Q. 9 /1.00  Q. 10 /1.00  Q. 11 /1.00  Q. 12 /1.00  \\\n",
       "0        0.75         0.0         1.0          1.0          1.0          1.0   \n",
       "1        1.00         1.0         1.0          1.0          1.0          1.0   \n",
       "\n",
       "   Q. 13 /1.00  Q. 14 /1.00  Q. 15 /1.00  GradeRank  \n",
       "0          0.0          1.0          1.0          2  \n",
       "1          1.0          0.0          1.0          2  \n",
       "\n",
       "[2 rows x 21 columns]"
      ]
     },
     "execution_count": 34,
     "metadata": {},
     "output_type": "execute_result"
    }
   ],
   "source": [
    "# Cuối cùng: thêm cột grade_rank vào quiz_df\n",
    "# (Ngoài phương thức assign ở bên dưới, một cách khác là:\n",
    "# quiz_df['GradeRank'] = grade_rank; tuy nhiên, một ưu điểm\n",
    "# của phương thức assign là có thể làm/không-làm thay đổi quiz_df)\n",
    "quiz_df = quiz_df.assign(GradeRank=grade_rank)\n",
    "quiz_df.head(2)"
   ]
  },
  {
   "cell_type": "markdown",
   "metadata": {},
   "source": [
    "## Phân tích dữ liệu"
   ]
  },
  {
   "cell_type": "markdown",
   "metadata": {},
   "source": [
    "So sánh các nhóm theo \"Time taken\": "
   ]
  },
  {
   "cell_type": "code",
   "execution_count": 35,
   "metadata": {},
   "outputs": [
    {
     "data": {
      "text/html": [
       "<div>\n",
       "<style scoped>\n",
       "    .dataframe tbody tr th:only-of-type {\n",
       "        vertical-align: middle;\n",
       "    }\n",
       "\n",
       "    .dataframe tbody tr th {\n",
       "        vertical-align: top;\n",
       "    }\n",
       "\n",
       "    .dataframe thead th {\n",
       "        text-align: right;\n",
       "    }\n",
       "</style>\n",
       "<table border=\"1\" class=\"dataframe\">\n",
       "  <thead>\n",
       "    <tr style=\"text-align: right;\">\n",
       "      <th></th>\n",
       "      <th>min</th>\n",
       "      <th>median</th>\n",
       "      <th>max</th>\n",
       "    </tr>\n",
       "    <tr>\n",
       "      <th>GradeRank</th>\n",
       "      <th></th>\n",
       "      <th></th>\n",
       "      <th></th>\n",
       "    </tr>\n",
       "  </thead>\n",
       "  <tbody>\n",
       "    <tr>\n",
       "      <th>4</th>\n",
       "      <td>10.766667</td>\n",
       "      <td>28.683333</td>\n",
       "      <td>90.0</td>\n",
       "    </tr>\n",
       "    <tr>\n",
       "      <th>3</th>\n",
       "      <td>17.633333</td>\n",
       "      <td>36.375000</td>\n",
       "      <td>115.0</td>\n",
       "    </tr>\n",
       "    <tr>\n",
       "      <th>2</th>\n",
       "      <td>2.983333</td>\n",
       "      <td>33.266667</td>\n",
       "      <td>88.0</td>\n",
       "    </tr>\n",
       "    <tr>\n",
       "      <th>1</th>\n",
       "      <td>2.816667</td>\n",
       "      <td>45.200000</td>\n",
       "      <td>146.0</td>\n",
       "    </tr>\n",
       "  </tbody>\n",
       "</table>\n",
       "</div>"
      ],
      "text/plain": [
       "                 min     median    max\n",
       "GradeRank                             \n",
       "4          10.766667  28.683333   90.0\n",
       "3          17.633333  36.375000  115.0\n",
       "2           2.983333  33.266667   88.0\n",
       "1           2.816667  45.200000  146.0"
      ]
     },
     "execution_count": 35,
     "metadata": {},
     "output_type": "execute_result"
    }
   ],
   "source": [
    "# Để ý: hàm median đã được định nghĩa ở trên\n",
    "quiz_df.groupby('GradeRank')['Time taken'].agg([min, median, max])"
   ]
  },
  {
   "cell_type": "markdown",
   "metadata": {},
   "source": [
    "Hmm... Có vẻ nhóm điểm cao (nhóm 1) bỏ nhiều thời gian để làm quiz hơn so với các nhóm còn lại (quan sát cột median).\n",
    "\n",
    "Trong nhóm điểm cao, có bạn chỉ mất ~3 phút để hoàn thành (quan sát cột min)! Một số giả thuyết có thể có:\n",
    "- Bạn này đã biết trước về Python?\n",
    "- Bạn này thuộc dạng superman 😉?\n",
    "- Gian lận?"
   ]
  },
  {
   "cell_type": "markdown",
   "metadata": {},
   "source": [
    "Bạn có thể thử so sánh các nhóm với các tiêu chí khác như \"Started on\" hay \"Completed\"."
   ]
  }
 ],
 "metadata": {
  "kernelspec": {
   "display_name": "Python 3",
   "language": "python",
   "name": "python3"
  },
  "language_info": {
   "codemirror_mode": {
    "name": "ipython",
    "version": 3
   },
   "file_extension": ".py",
   "mimetype": "text/x-python",
   "name": "python",
   "nbconvert_exporter": "python",
   "pygments_lexer": "ipython3",
   "version": "3.7.4"
  },
  "toc": {
   "base_numbering": 1,
   "nav_menu": {},
   "number_sections": false,
   "sideBar": true,
   "skip_h1_title": true,
   "title_cell": "Table of Contents",
   "title_sidebar": "Contents",
   "toc_cell": false,
   "toc_position": {
    "height": "calc(100% - 180px)",
    "left": "10px",
    "top": "150px",
    "width": "165px"
   },
   "toc_section_display": true,
   "toc_window_display": true
  }
 },
 "nbformat": 4,
 "nbformat_minor": 4
}
