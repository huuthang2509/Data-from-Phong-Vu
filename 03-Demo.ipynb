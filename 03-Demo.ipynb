{
 "cells": [
  {
   "cell_type": "markdown",
   "metadata": {},
   "source": [
    "Cập nhật 23/10/2020"
   ]
  },
  {
   "cell_type": "markdown",
   "metadata": {},
   "source": [
    "# Tiếp tục ví dụ buổi trước"
   ]
  },
  {
   "cell_type": "code",
   "execution_count": 1,
   "metadata": {},
   "outputs": [],
   "source": [
    "import requests\n",
    "from bs4 import BeautifulSoup"
   ]
  },
  {
   "cell_type": "code",
   "execution_count": 2,
   "metadata": {},
   "outputs": [],
   "source": [
    "# Lấy nội dung html của trang chứa các kết quả tuyển dụng \n",
    "# khi tìm kiếm trên trang careerbuilder bằng từ khóa data scientist\n",
    "url = 'https://careerbuilder.vn/viec-lam/data-scientist-k-vi.html'\n",
    "html_text = requests.get(url).text"
   ]
  },
  {
   "cell_type": "code",
   "execution_count": 3,
   "metadata": {},
   "outputs": [],
   "source": [
    "# Parse html\n",
    "tree = BeautifulSoup(html_text, 'html.parser')"
   ]
  },
  {
   "cell_type": "code",
   "execution_count": 4,
   "metadata": {},
   "outputs": [
    {
     "output_type": "execute_result",
     "data": {
      "text/plain": [
       "11"
      ]
     },
     "metadata": {},
     "execution_count": 4
    }
   ],
   "source": [
    "# Tìm kiếm các tag ứng với các tuyển dụng\n",
    "jobs = tree.find_all('div', {'class': 'job-item'})\n",
    "len(jobs)"
   ]
  },
  {
   "cell_type": "code",
   "execution_count": 6,
   "metadata": {},
   "outputs": [
    {
     "output_type": "stream",
     "name": "stdout",
     "text": [
      "1\n",
      "2\n",
      "3\n",
      "4\n",
      "5\n",
      "6\n",
      "7\n",
      "8\n",
      "9\n",
      "10\n",
      "11\n",
      "Done!\n"
     ]
    }
   ],
   "source": [
    "# Với mỗi tag tuyển dụng, rút trích: \n",
    "# tựa đề, công ty tuyển dụng, lương, địa điểm, ngày đăng thông báo, \n",
    "# link đến nội dung chi tiết, nội dung chi tiết\n",
    "# Đồng thời, ghi các thông tin này xuống file csv/tsv, mỗi tuyển dụng là một dòng\n",
    "# Ở đây, ta sẽ dùng file tsv (tab được dùng để phân tách các giá trị trên một dòng)\n",
    "# vì dấu phẩy nhiều khả năng là sẽ xuất hiện trong các giá trị\n",
    "\n",
    "file = open('03_result.csv', 'w', encoding='utf-8') # Bạn cần tạo thư mục Data cùng cấp với file notebook này\n",
    "count = 1\n",
    "for job in jobs:\n",
    "    print(count); count += 1\n",
    "    title = job.find('a', {'class': 'job_link'})['title'] # Nếu dùng .string.strip() thì có một tuyển dụng bị lỗi tại thời điểm mình chạy    \n",
    "    company = job.find('a', {'class': 'company-name'}).string\n",
    "    salary = job.find('div', {'class': 'salary'}).text\n",
    "    location = job.find('div', {'class': 'location'}).text.strip()\n",
    "    posted_date = job.find('time').string\n",
    "    url = job.find('a', {'class': 'job_link'})['href']\n",
    "    \n",
    "    # Vào link tuyển dụng để lấy nội dung chi tiết\n",
    "    job_html_text = requests.get(url).text\n",
    "    job_tree = BeautifulSoup(job_html_text, 'html.parser')\n",
    "    ## Ta cần thay ký tự xuống dòng trong chuỗi detail bằng một ký tự nào đó\n",
    "    ## như '>>' vì nếu không thì ký tự xuống dòng sẽ làm loạn file csv\n",
    "    details = job_tree.get_text(separator='>>', strip=True)\n",
    "    ## Fix lỗi mà mình nói ở dưới\n",
    "    details = details.replace('\\n\\r', '>>')\n",
    "    details = details.replace('\\n', '>>')\n",
    "    details = details.replace('\\r', '>>')\n",
    "    \n",
    "    file.write(f'{title}\\t{company}\\t{salary}\\t{location}\\t{posted_date}\\t{url}\\t{details}\\n')\n",
    "    \n",
    "file.close()\n",
    "print('Done!')"
   ]
  },
  {
   "cell_type": "markdown",
   "metadata": {},
   "source": [
    "## Đếm số lần xuất xuất hiện của các ngôn ngữ lập trình"
   ]
  },
  {
   "cell_type": "code",
   "execution_count": 6,
   "metadata": {},
   "outputs": [],
   "source": [
    "# Đầu tiên, đọc dữ liệu đã lưu xuống file \n",
    "file = open('Data/ds_jobs.tsv', 'r', encoding='utf-8')\n",
    "job_lines = file.readlines()\n",
    "file.close()"
   ]
  },
  {
   "cell_type": "code",
   "execution_count": 7,
   "metadata": {},
   "outputs": [
    {
     "data": {
      "text/plain": [
       "13"
      ]
     },
     "execution_count": 7,
     "metadata": {},
     "output_type": "execute_result"
    }
   ],
   "source": [
    "# Số lượng dòng đọc được phải bằng số lượng tuyển dụng\n",
    "len(job_lines)"
   ]
  },
  {
   "cell_type": "markdown",
   "metadata": {},
   "source": [
    "Rất tiếc là không bằng! Đây chính là lỗi mà mình đang chưa fix được khi demo trên lớp. Đối với người lập trình thì mình nghĩ lỗi là một điều tốt 🙂, vì thông quá trình fix lỗi thì kinh nghiệm sẽ được tăng lên.\n",
    "\n",
    "Sau khi xem xét thì mình phát hiện ra lỗi là do trong chuỗi chứa nội dung chi tiết tuyển dụng có ký tự `'\\r'` (mình nghĩ có thể là `'\\r'` trong `'\\r\\n'`, cũng có thể là `'\\r'` đứng một mình). Mặc định thì phương thức `readlines` của Python sẽ xem `'\\r'` hay `'\\n'` hay `'\\r\\n'` đều là ký tự xuống dòng và sẽ chuyển thành `'\\n'`.\n",
    "\n",
    "Bài tập trong tuần này của bạn là:\n",
    "1. Sửa lỗi ở trên\n",
    "2. Sau đó, với mỗi phần tử (mỗi dòng) trong list `job_lines` ở trên, bạn lấy ra chuỗi nội dung chi tiết của tuyển dụng, chuẩn hóa bằng cách viết thường hết, và dùng Regex để rút trích tập từ; rồi bạn check các ngôn ngữ lập trình có trong tập từ này không (ở đây, bạn xét các ngôn ngữ sau: python, r, matlab, c, c++, c#, java), nếu có thì cộng biến đếm của ngôn ngữ đó lên 1."
   ]
  },
  {
   "cell_type": "code",
   "execution_count": 8,
   "metadata": {},
   "outputs": [],
   "source": [
    "import re"
   ]
  },
  {
   "cell_type": "code",
   "execution_count": 9,
   "metadata": {},
   "outputs": [
    {
     "data": {
      "text/plain": [
       "{'python': 6, 'r': 3, 'c': 0, 'c++': 0, 'c#': 0, 'java': 2}"
      ]
     },
     "execution_count": 9,
     "metadata": {},
     "output_type": "execute_result"
    }
   ],
   "source": [
    "language_counts = {'python': 0, 'r': 0, 'c': 0, 'c++': 0, 'c#': 0, 'java': 0}\n",
    "for job_line in job_lines:\n",
    "    details = job_line[:-1].split('\\t')[-1]\n",
    "    details = details.lower()\n",
    "    word_set = set(re.findall(r'[\\w+#]+', details))\n",
    "    for language in language_counts:\n",
    "        if language in word_set:\n",
    "            language_counts[language] += 1\n",
    "\n",
    "language_counts"
   ]
  },
  {
   "cell_type": "markdown",
   "metadata": {},
   "source": [
    "# Trang web có JavaScript"
   ]
  },
  {
   "cell_type": "code",
   "execution_count": 10,
   "metadata": {},
   "outputs": [],
   "source": [
    "html_text = requests.get('http://avi.im/stuff/js-or-no-js.html').text"
   ]
  },
  {
   "cell_type": "code",
   "execution_count": 11,
   "metadata": {},
   "outputs": [],
   "source": [
    "tree = BeautifulSoup(html_text, 'html.parser')"
   ]
  },
  {
   "cell_type": "code",
   "execution_count": 12,
   "metadata": {},
   "outputs": [
    {
     "data": {
      "text/plain": [
       "[<p id=\"intro-text\">No javascript support</p>]"
      ]
     },
     "execution_count": 12,
     "metadata": {},
     "output_type": "execute_result"
    }
   ],
   "source": [
    "tree.find_all(attrs={'id': 'intro-text'})"
   ]
  },
  {
   "cell_type": "code",
   "execution_count": null,
   "metadata": {},
   "outputs": [],
   "source": []
  },
  {
   "cell_type": "code",
   "execution_count": 13,
   "metadata": {},
   "outputs": [],
   "source": [
    "from selenium import webdriver"
   ]
  },
  {
   "cell_type": "code",
   "execution_count": 14,
   "metadata": {},
   "outputs": [],
   "source": [
    "browser = webdriver.Chrome(executable_path='./chromedriver.exe') \n",
    "# Bạn cần để file \"chromedriver.exe\" cùng cấp với thư mục chứa file notebook này"
   ]
  },
  {
   "cell_type": "code",
   "execution_count": 15,
   "metadata": {},
   "outputs": [],
   "source": [
    "browser.get('http://avi.im/stuff/js-or-no-js.html')"
   ]
  },
  {
   "cell_type": "code",
   "execution_count": 16,
   "metadata": {},
   "outputs": [
    {
     "name": "stdout",
     "output_type": "stream",
     "text": [
      "<html><head>\n",
      "  <meta charset=\"utf-8\">\n",
      "  <title>Javascript scraping test</title>\n",
      "</head>\n",
      "<body>\n",
      "  <p id=\"intro-text\">Yay! Supports javascript</p>\n",
      "<script type=\"text/javascript\">\n",
      "    document.getElementById('intro-text').innerHTML = 'Yay! Supports javascript';\n",
      "</script>\n",
      "\n",
      "</body></html>\n"
     ]
    }
   ],
   "source": [
    "html_text = browser.page_source\n",
    "print(html_text)"
   ]
  },
  {
   "cell_type": "code",
   "execution_count": 17,
   "metadata": {},
   "outputs": [],
   "source": [
    "browser.quit()"
   ]
  },
  {
   "cell_type": "code",
   "execution_count": 18,
   "metadata": {},
   "outputs": [
    {
     "data": {
      "text/plain": [
       "[<p id=\"intro-text\">Yay! Supports javascript</p>]"
      ]
     },
     "execution_count": 18,
     "metadata": {},
     "output_type": "execute_result"
    }
   ],
   "source": [
    "tree = BeautifulSoup(html_text)\n",
    "tree.find_all(attrs={'id': 'intro-text'})"
   ]
  },
  {
   "cell_type": "markdown",
   "metadata": {},
   "source": [
    "# Trang web đòi hỏi phải tương tác"
   ]
  },
  {
   "cell_type": "code",
   "execution_count": 19,
   "metadata": {
    "scrolled": true
   },
   "outputs": [],
   "source": [
    "from selenium import webdriver\n",
    "from selenium.webdriver.common.keys import Keys"
   ]
  },
  {
   "cell_type": "code",
   "execution_count": 20,
   "metadata": {},
   "outputs": [
    {
     "name": "stdout",
     "output_type": "stream",
     "text": [
      "2020-10-25\n",
      "25 Oct\n"
     ]
    }
   ],
   "source": [
    "# Ngày mai là ngày bao nhiêu?\n",
    "from datetime import date, timedelta\n",
    "\n",
    "today = date.today()\n",
    "tomorrow = today + timedelta(1)\n",
    "print(tomorrow)\n",
    "tomorrow_day = str(tomorrow.day)\n",
    "tomorow_month = tomorrow.strftime('%b')\n",
    "print(tomorrow_day, tomorow_month)"
   ]
  },
  {
   "cell_type": "code",
   "execution_count": 21,
   "metadata": {},
   "outputs": [],
   "source": [
    "# Mở Chrome và cho full màn hình\n",
    "browser = webdriver.Chrome(executable_path='./chromedriver.exe')\n",
    "browser.maximize_window()"
   ]
  },
  {
   "cell_type": "code",
   "execution_count": 22,
   "metadata": {},
   "outputs": [],
   "source": [
    "# Mở trang chủ của Vietjet\n",
    "browser.get('https://www.vietjetair.com/Sites/Web/vi-VN/Home')"
   ]
  },
  {
   "cell_type": "code",
   "execution_count": 23,
   "metadata": {},
   "outputs": [],
   "source": [
    "# Tắt cửa sổ quảng cáo nếu có bằng cách ấn phím Esc \n",
    "browser.find_element_by_css_selector('html').send_keys(Keys.ESCAPE)"
   ]
  },
  {
   "cell_type": "code",
   "execution_count": 24,
   "metadata": {},
   "outputs": [],
   "source": [
    "# Chọn điểm khởi hành là TP HCM \n",
    "locations = browser.find_elements_by_css_selector('#selectOrigin option')\n",
    "for location in locations:\n",
    "    if 'SGN' in location.text:\n",
    "        location.click()\n",
    "        break"
   ]
  },
  {
   "cell_type": "code",
   "execution_count": 25,
   "metadata": {},
   "outputs": [],
   "source": [
    "# Chọn điểm đến là Đà Nẵng\n",
    "locations = browser.find_elements_by_css_selector('#selectDestination option')\n",
    "for location in locations:\n",
    "    if \"DAD\" in location.text:\n",
    "        location.click()\n",
    "        break"
   ]
  },
  {
   "cell_type": "code",
   "execution_count": 26,
   "metadata": {},
   "outputs": [],
   "source": [
    "# Chọn mua vé một chiều\n",
    "browser.find_element_by_css_selector('#ctl00_UcRightV31_RbOneWay').click()"
   ]
  },
  {
   "cell_type": "code",
   "execution_count": 27,
   "metadata": {},
   "outputs": [],
   "source": [
    "# Click chỗ ngày đi để hiện lên calendar để chọn\n",
    "browser.find_element_by_css_selector('#ctl00_UcRightV31_TxtDepartDate').click()"
   ]
  },
  {
   "cell_type": "code",
   "execution_count": 28,
   "metadata": {},
   "outputs": [],
   "source": [
    "# Chọn tháng đi\n",
    "months = browser.find_elements_by_css_selector('#ui-datepicker-div option')\n",
    "for month in months:\n",
    "    if month.text == tomorow_month:\n",
    "        month.click()\n",
    "        break"
   ]
  },
  {
   "cell_type": "code",
   "execution_count": 29,
   "metadata": {},
   "outputs": [],
   "source": [
    "# Chọn ngày đi\n",
    "days = browser.find_elements_by_css_selector('#ui-datepicker-div td')\n",
    "for day in days:\n",
    "    if day.text == tomorrow_day:\n",
    "        day.click()\n",
    "        break"
   ]
  },
  {
   "cell_type": "code",
   "execution_count": 30,
   "metadata": {},
   "outputs": [],
   "source": [
    "# Ấn nút tìm chuyến bay\n",
    "browser.find_element_by_css_selector('#ctl00_UcRightV31_BtSearch').click()"
   ]
  },
  {
   "cell_type": "code",
   "execution_count": 31,
   "metadata": {},
   "outputs": [],
   "source": [
    "# Giao lại cho Beautiful Soup\n",
    "html_text = browser.page_source\n",
    "browser.quit()\n",
    "tree = BeautifulSoup(html_text, 'html.parser')\n",
    "# ..."
   ]
  }
 ],
 "metadata": {
  "kernelspec": {
   "display_name": "Python 3",
   "language": "python",
   "name": "python3"
  },
  "language_info": {
   "codemirror_mode": {
    "name": "ipython",
    "version": 3
   },
   "file_extension": ".py",
   "mimetype": "text/x-python",
   "name": "python",
   "nbconvert_exporter": "python",
   "pygments_lexer": "ipython3",
   "version": "3.8.3-final"
  },
  "toc": {
   "base_numbering": 1,
   "nav_menu": {},
   "number_sections": true,
   "sideBar": true,
   "skip_h1_title": false,
   "title_cell": "Table of Contents",
   "title_sidebar": "Contents",
   "toc_cell": false,
   "toc_position": {
    "height": "calc(100% - 180px)",
    "left": "10px",
    "top": "150px",
    "width": "165px"
   },
   "toc_section_display": true,
   "toc_window_display": false
  }
 },
 "nbformat": 4,
 "nbformat_minor": 4
}