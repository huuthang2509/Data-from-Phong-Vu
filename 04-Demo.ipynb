{
 "cells": [
  {
   "cell_type": "markdown",
   "metadata": {},
   "source": [
    "Cập nhật 23/10/2020"
   ]
  },
  {
   "cell_type": "code",
   "execution_count": 6,
   "metadata": {},
   "outputs": [],
   "source": [
    "import requests\n",
    "import json"
   ]
  },
  {
   "cell_type": "code",
   "execution_count": 7,
   "metadata": {},
   "outputs": [
    {
     "name": "stdout",
     "output_type": "stream",
     "text": [
      "GET https://api.github.com/search/repositories?q=data+science&per_page=50&page=1\n",
      "Num remaining requests: 9\n",
      "GET https://api.github.com/search/repositories?q=data+science&per_page=50&page=2\n",
      "Num remaining requests: 8\n",
      "GET https://api.github.com/search/repositories?q=data+science&per_page=50&page=3\n",
      "Num remaining requests: 7\n",
      "GET https://api.github.com/search/repositories?q=data+science&per_page=50&page=4\n",
      "Num remaining requests: 6\n",
      "GET https://api.github.com/search/repositories?q=data+science&per_page=50&page=5\n",
      "Num remaining requests: 5\n",
      "GET https://api.github.com/search/repositories?q=data+science&per_page=50&page=6\n",
      "Num remaining requests: 4\n",
      "GET https://api.github.com/search/repositories?q=data+science&per_page=50&page=7\n",
      "Num remaining requests: 3\n",
      "GET https://api.github.com/search/repositories?q=data+science&per_page=50&page=8\n",
      "Num remaining requests: 2\n",
      "GET https://api.github.com/search/repositories?q=data+science&per_page=50&page=9\n",
      "Num remaining requests: 9\n",
      "GET https://api.github.com/search/repositories?q=data+science&per_page=50&page=10\n",
      "Num remaining requests: 1\n",
      "GET https://api.github.com/search/repositories?q=data+science&per_page=50&page=11\n",
      "Num remaining requests: 0\n",
      "GET https://api.github.com/search/repositories?q=data+science&per_page=50&page=12\n",
      "Num remaining requests: 8\n",
      "GET https://api.github.com/search/repositories?q=data+science&per_page=50&page=13\n",
      "Error: 'items'\n",
      "Num collected items: 600\n"
     ]
    }
   ],
   "source": [
    "# Dùng Github API để thu thập các thùng chứa trên Github từ khóa \"data science\"\n",
    "# Kết quả thu thập được sẽ không đầy đủ vì:\n",
    "# - Github API chỉ cho lấy tối đa 1000 kết quả với một lần search\n",
    "#   (1000 kết quả này sẽ được chia làm nhiều page)\n",
    "# - Đây chỉ là demo nhanh nên ta sẽ dừng thu thập khi xảy ra lỗi \n",
    "#   (có thể do hết số lượng request cho phép, hoặc do đã lấy hết các kết quả, ...)\n",
    "\n",
    "all_items = []\n",
    "page = 1\n",
    "while True:\n",
    "    try:\n",
    "        # Nếu dùng url mà không có 'per_page=' và 'page=' thì kết quả trả về là \n",
    "        # page đầu tiên (page=1) và 30 kết quả / page (per_page=30).\n",
    "        # 'per_page' được chỉnh tối đa là 100.\n",
    "        # Tổng các page chỉ chứa tối đa là 1000 kết quả tìm được.\n",
    "        url = f'https://api.github.com/search/repositories?q=data+science&per_page=50&page={page}'\n",
    "        print(f'GET {url}')\n",
    "        r = requests.get(url)\n",
    "        json_pydata = json.loads(r.text) # Shortcut: json_pydata = r.json()\n",
    "        \n",
    "        all_items.extend(json_pydata['items'])\n",
    "        \n",
    "        print(f\"Num remaining requests: {r.headers['X-RateLimit-Remaining']}\")\n",
    "        page += 1\n",
    "    except Exception as e: # Có thể là do hết lượng request được phép, hoặc hết page, ...\n",
    "        print(f'Error: {e}')\n",
    "        break\n",
    "print(f'Num collected items: {len(all_items)}')"
   ]
  },
  {
   "cell_type": "code",
   "execution_count": 8,
   "metadata": {},
   "outputs": [
    {
     "data": {
      "text/plain": [
       "{'Jupyter Notebook': 303,\n",
       " 'Python': 57,\n",
       " None: 100,\n",
       " 'CSS': 2,\n",
       " 'HTML': 69,\n",
       " 'R': 21,\n",
       " 'Ruby': 3,\n",
       " 'TeX': 8,\n",
       " 'Go': 2,\n",
       " 'JavaScript': 9,\n",
       " 'C++': 2,\n",
       " 'TypeScript': 2,\n",
       " 'Shell': 7,\n",
       " 'Roff': 1,\n",
       " 'Java': 3,\n",
       " 'Makefile': 1,\n",
       " 'Scala': 4,\n",
       " 'Dockerfile': 1,\n",
       " 'Julia': 2,\n",
       " 'Haskell': 1,\n",
       " 'C': 2}"
      ]
     },
     "execution_count": 8,
     "metadata": {},
     "output_type": "execute_result"
    }
   ],
   "source": [
    "# Đếm số lần xuất hiện của các ngôn ngữ lập trình\n",
    "language_counts = {}\n",
    "for item in all_items:\n",
    "    language = item['language']\n",
    "    language_counts[language] = language_counts.get(language, 0) + 1\n",
    "language_counts"
   ]
  },
  {
   "cell_type": "code",
   "execution_count": null,
   "metadata": {},
   "outputs": [],
   "source": []
  }
 ],
 "metadata": {
  "kernelspec": {
   "display_name": "Python 3",
   "language": "python",
   "name": "python3"
  },
  "language_info": {
   "codemirror_mode": {
    "name": "ipython",
    "version": 3
   },
   "file_extension": ".py",
   "mimetype": "text/x-python",
   "name": "python",
   "nbconvert_exporter": "python",
   "pygments_lexer": "ipython3",
   "version": "3.7.4"
  },
  "toc": {
   "base_numbering": 1,
   "nav_menu": {},
   "number_sections": true,
   "sideBar": true,
   "skip_h1_title": false,
   "title_cell": "Table of Contents",
   "title_sidebar": "Contents",
   "toc_cell": false,
   "toc_position": {},
   "toc_section_display": true,
   "toc_window_display": false
  }
 },
 "nbformat": 4,
 "nbformat_minor": 4
}
