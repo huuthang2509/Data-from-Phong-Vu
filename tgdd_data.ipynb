{
 "metadata": {
  "language_info": {
   "codemirror_mode": {
    "name": "ipython",
    "version": 3
   },
   "file_extension": ".py",
   "mimetype": "text/x-python",
   "name": "python",
   "nbconvert_exporter": "python",
   "pygments_lexer": "ipython3",
   "version": "3.8.3-final"
  },
  "orig_nbformat": 2,
  "kernelspec": {
   "name": "python3",
   "display_name": "Python 3"
  }
 },
 "nbformat": 4,
 "nbformat_minor": 2,
 "cells": [
  {
   "cell_type": "code",
   "execution_count": 81,
   "metadata": {},
   "outputs": [],
   "source": [
    "import requests\n",
    "from bs4 import BeautifulSoup\n",
    "import time\n",
    "from selenium import webdriver"
   ]
  },
  {
   "cell_type": "code",
   "execution_count": 82,
   "metadata": {},
   "outputs": [
    {
     "output_type": "execute_result",
     "data": {
      "text/plain": [
       "118"
      ]
     },
     "metadata": {},
     "execution_count": 82
    }
   ],
   "source": [
    "browser = webdriver.Chrome(executable_path='./chromedriver.exe')\n",
    "browser.get('https://www.thegioididong.com/dtdd#i:3')\n",
    "time.sleep(15)\n",
    "html_text = browser.page_source\n",
    "tree = BeautifulSoup(html_text, 'html.parser')\n",
    "item = tree.find_all('li', {'class': 'item'})\n",
    "browser.quit()\n",
    "len(item)"
   ]
  },
  {
   "cell_type": "code",
   "execution_count": 77,
   "metadata": {},
   "outputs": [
    {
     "output_type": "stream",
     "name": "stdout",
     "text": [
      "p228738\niPhone 12 Pro 256GB\nNone\n34.990.000₫\nhttps://www.thegioididong.com/dtdd/iphone-12-pro-256gb\n"
     ]
    }
   ],
   "source": [
    "item_id = 'p' + item[14]['data-productid']\n",
    "item_name = item[14].find('h3').string\n",
    "item_price = item[14].find('div', {'class': 'price'})\n",
    "if item_price.find('span') != None:\n",
    "    item_baseprice = item_price.find('span').string\n",
    "else:\n",
    "    item_baseprice = None\n",
    "item_discountprice = item_price.find('strong').string\n",
    "\n",
    "item_detail_url = 'https://www.thegioididong.com' + item[14].find('a')['href']\n",
    "print(item_id)\n",
    "print(item_name)\n",
    "print(item_baseprice)\n",
    "print(item_discountprice)\n",
    "\n",
    "print(item_detail_url)"
   ]
  },
  {
   "cell_type": "code",
   "execution_count": 78,
   "metadata": {},
   "outputs": [],
   "source": [
    "item_html_text = requests.get(item_detail_url).text\n",
    "item_tree = BeautifulSoup(item_html_text, 'html.parser')"
   ]
  },
  {
   "cell_type": "code",
   "execution_count": 79,
   "metadata": {},
   "outputs": [
    {
     "output_type": "stream",
     "name": "stdout",
     "text": [
      "OLED, 6.1\", Super Retina XDR\n12 MP\n3 camera 12 MP\nApple A14 Bionic 6 nhân\n256 GB\n2815 mAh, có sạc nhanh\nhttps://cdn.tgdd.vn/Products/Images/42/228738/iphone-12-pro-256gb-195920-015933-400x400.png\n"
     ]
    }
   ],
   "source": [
    "item_screen = item_tree.find('li', {'class': item_id + ' g6459_79_77'}).text[9:]\n",
    "item_front_camera = item_tree.find('li', {'class': item_id + ' g29'}).text[13:]\n",
    "item_back_camera = item_tree.find('li', {'class': item_id + ' g27'}).text[11:]\n",
    "item_processor = item_tree.find('li', {'class': item_id + ' g6059'}).find('div').text\n",
    "item_storage = item_tree.find('li', {'class': item_id + ' g49'}).find('div').text\n",
    "item_battery = item_tree.find('li', {'class': item_id + ' g84_10882'}).find('div').text\n",
    "item_image = item_tree.find('div', {'class': 'icon-position'}).find('img')['src']\n",
    "print(item_screen)\n",
    "print(item_front_camera)\n",
    "print(item_back_camera)\n",
    "print(item_processor)\n",
    "print(item_storage)\n",
    "print(item_battery)\n",
    "print(item_image)"
   ]
  },
  {
   "cell_type": "code",
   "execution_count": 85,
   "metadata": {},
   "outputs": [
    {
     "output_type": "stream",
     "name": "stdout",
     "text": [
      "1\n",
      "2\n",
      "3\n",
      "4\n",
      "5\n",
      "6\n",
      "7\n",
      "8\n",
      "9\n",
      "10\n",
      "11\n",
      "12\n",
      "13\n",
      "14\n",
      "15\n",
      "16\n",
      "17\n",
      "18\n",
      "19\n",
      "20\n",
      "21\n",
      "22\n",
      "23\n",
      "24\n",
      "25\n",
      "26\n",
      "27\n",
      "28\n",
      "29\n",
      "30\n",
      "31\n",
      "32\n",
      "33\n",
      "34\n",
      "35\n",
      "36\n",
      "37\n",
      "38\n",
      "39\n",
      "40\n",
      "41\n",
      "42\n",
      "43\n",
      "44\n",
      "45\n",
      "46\n",
      "47\n",
      "48\n",
      "49\n",
      "50\n",
      "51\n",
      "52\n",
      "53\n",
      "54\n",
      "55\n",
      "56\n",
      "57\n",
      "58\n",
      "59\n",
      "60\n",
      "61\n",
      "62\n",
      "63\n",
      "64\n",
      "65\n",
      "66\n",
      "67\n",
      "68\n",
      "69\n",
      "70\n",
      "71\n",
      "72\n",
      "73\n",
      "74\n",
      "75\n",
      "76\n",
      "77\n",
      "78\n",
      "79\n",
      "80\n",
      "81\n",
      "82\n",
      "83\n",
      "84\n",
      "85\n",
      "86\n",
      "87\n",
      "88\n",
      "89\n",
      "90\n",
      "91\n",
      "92\n",
      "93\n",
      "94\n",
      "95\n",
      "96\n",
      "97\n",
      "98\n",
      "99\n",
      "100\n",
      "101\n",
      "102\n",
      "103\n",
      "104\n",
      "105\n",
      "106\n",
      "107\n",
      "108\n",
      "109\n",
      "110\n",
      "111\n",
      "112\n",
      "113\n",
      "114\n",
      "115\n",
      "116\n",
      "117\n",
      "Done\n"
     ]
    }
   ],
   "source": [
    "tgdd_out = open('tgdd_out.csv', 'w', encoding = 'utf-8')\n",
    "tgdd_out.write('name,baseprice,discountprice,cover,battery,frontcamera,backcamera,processor,screen,storage\\n')\n",
    "count = 1\n",
    "for i in range(1, len(item)):\n",
    "    print(count); count += 1\n",
    "    if i == 3 or i == 13 or i == 63 or i == 16:\n",
    "        pass\n",
    "    else:\n",
    "        item_id = 'p' + item[i]['data-productid']\n",
    "        item_name = item[i].find('h3').string\n",
    "        item_price = item[i].find('div', {'class': 'price'})\n",
    "        if item_price.find('span') != None:\n",
    "            item_baseprice = item_price.find('span').string\n",
    "        else:\n",
    "            item_baseprice = None\n",
    "        item_discountprice = item_price.find('strong').string\n",
    "        # item_image = item[i].find('img')['src']\n",
    "        item_detail_url = 'https://www.thegioididong.com' + item[i].find('a')['href']\n",
    "        item_html_text = requests.get(item_detail_url).text\n",
    "        item_tree = BeautifulSoup(item_html_text, 'html.parser')\n",
    "        item_screen = item_tree.find('li', {'class': item_id + ' g6459_79_77'}).text[9:]\n",
    "        item_front_camera = item_tree.find('li', {'class': item_id + ' g29'}).text[13:]\n",
    "        item_back_camera = item_tree.find('li', {'class': item_id + ' g27'}).text[11:]\n",
    "        item_processor = item_tree.find('li', {'class': item_id + ' g6059'}).find('div').text\n",
    "        item_storage = item_tree.find('li', {'class': item_id + ' g49'}).find('div').text\n",
    "        item_battery = item_tree.find('li', {'class': item_id + ' g84_10882'}).find('div').text\n",
    "        item_image = item_tree.find('div', {'class': 'icon-position'}).find('img')['src']\n",
    "        tgdd_out.write(f'{item_name}\\t{item_baseprice}\\t{item_discountprice}\\t{item_image}\\t{item_battery}\\t{item_front_camera}\\t{item_back_camera}\\t{item_processor}\\t{item_screen}\\t{item_storage}\\n')\n",
    "        # print(item_id)\n",
    "        # print(item_name)\n",
    "        # print(item_baseprice)\n",
    "        # print(item_discountprice)\n",
    "        # print(item_image)\n",
    "        # print(item_screen)\n",
    "        # print(item_front_camera)\n",
    "        # print(item_back_camera)\n",
    "        # print(item_processor)\n",
    "        # print(item_storage)\n",
    "        # print(item_battery)\n",
    "        # print('\\n')\n",
    "        time.sleep(3)\n",
    "tgdd_out.close()\n",
    "print('Done')"
   ]
  }
 ]
}